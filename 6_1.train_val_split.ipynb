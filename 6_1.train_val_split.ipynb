{
 "cells": [
  {
   "cell_type": "code",
   "execution_count": null,
   "metadata": {
    "colab": {},
    "colab_type": "code",
    "id": "YGFKcHWXgkY7"
   },
   "outputs": [],
   "source": [
    "import numpy as np\n",
    "import os\n",
    "import shutil\n",
    "import tensorflow as tf\n",
    "from sklearn.model_selection import train_test_split\n",
    "from PIL import Image"
   ]
  },
  {
   "cell_type": "code",
   "execution_count": null,
   "metadata": {
    "colab": {
     "base_uri": "https://localhost:8080/",
     "height": 36
    },
    "colab_type": "code",
    "id": "Xtd16p24gplf",
    "outputId": "eb4635d2-d3ac-4ab1-ec04-15854f46f6cd"
   },
   "outputs": [],
   "source": [
    "cd '/content/gdrive/My Drive/TensorFlow_Training_13th'"
   ]
  },
  {
   "cell_type": "code",
   "execution_count": null,
   "metadata": {
    "colab": {
     "base_uri": "https://localhost:8080/",
     "height": 36
    },
    "colab_type": "code",
    "id": "PiLl1tkngkY-",
    "outputId": "0bd7b273-54d3-41cb-d3e0-ca93f999277b"
   },
   "outputs": [],
   "source": [
    "cur_dir = os.getcwd()\n",
    "print(cur_dir)"
   ]
  },
  {
   "cell_type": "code",
   "execution_count": null,
   "metadata": {
    "colab": {
     "base_uri": "https://localhost:8080/",
     "height": 113
    },
    "colab_type": "code",
    "id": "oUXGS7BAgkZC",
    "outputId": "c0fe2dbb-ad70-4c7a-c32b-060d002bb235"
   },
   "outputs": [],
   "source": [
    "## Train Dataset이 있는 directory 경로\n",
    "train_dir = os.path.join(cur_dir, 'simpsons_train')\n",
    "print(\"Train Dataset Directory Path : \", train_dir)\n",
    "\n",
    "## Train directory 아래에 directory 이름과 갯수 확인(class 수)\n",
    "categories = sorted([dname for dname in os.listdir(train_dir) if os.path.isdir(os.path.join(train_dir, dname))])\n",
    "n_class = len(categories)\n",
    "print(\"This dataset has {} classes\".format(n_class))\n",
    "print(\"Class names :\")\n",
    "print(categories)"
   ]
  },
  {
   "cell_type": "code",
   "execution_count": null,
   "metadata": {
    "colab": {
     "base_uri": "https://localhost:8080/",
     "height": 36
    },
    "colab_type": "code",
    "id": "a-wN2ke6gkZE",
    "outputId": "77bef656-e30e-4b4c-b3b8-6b75daf39d3f"
   },
   "outputs": [],
   "source": [
    "## Train Dataset 중 몇 %를 Validation Dataset으로 사용할 지 비율\n",
    "val_ratio = 1/4\n",
    "## Validation Dataset을 저장할 direcyory 이름\n",
    "val_dname = 'simpsons_val'\n",
    "val_dir = os.path.join(train_dir, '..', val_dname)\n",
    "os.makedirs(val_dir, exist_ok=True)\n",
    "print(val_dir)"
   ]
  },
  {
   "cell_type": "code",
   "execution_count": null,
   "metadata": {
    "colab": {
     "base_uri": "https://localhost:8080/",
     "height": 929
    },
    "colab_type": "code",
    "id": "yBE2wmlqgkZH",
    "outputId": "00101bc5-c761-4ea0-e5c6-7fa7e09a6402",
    "scrolled": false
   },
   "outputs": [],
   "source": [
    "## image file 확장자\n",
    "valid_exts = ['.jpg', '.png', '.jpeg', '.gif']\n",
    "\n",
    "## 조건에 맞는 image file만 남기고 삭제\n",
    "for category in categories:\n",
    "    cat_dir = os.path.join(train_dir, category)\n",
    "    fnames = os.listdir(cat_dir)\n",
    "    \n",
    "    for fname in fnames:\n",
    "        ext = os.path.splitext(fname)[1]\n",
    "        fpath = os.path.join(cat_dir, fname)\n",
    "        ## image file이 아닐 경우 삭제\n",
    "        if ext.lower() not in valid_exts:\n",
    "            ## 주의!! 파일 삭제!! \n",
    "            os.remove(fpath)\n",
    "            continue\n",
    "        img = Image.open(fpath)\n",
    "        img = np.asarray(img)        \n",
    "        ## grey scale image의 경우 channel을 3으로 확장\n",
    "        try:\n",
    "            ch = img.shape[2]\n",
    "        except:\n",
    "            img = np.tile(np.expand_dims(img, axis=2), [1, 1, 3])\n",
    "            ch = image.shape[2]\n",
    "        ## channel이 3이 아닌 경우(channel이 4인 경우) 삭제\n",
    "        if ch != 3:\n",
    "            print(\"{} has 4 channels\".format(fpath))\n",
    "            ## 주의!! 파일 삭제!!\n",
    "            os.remove(fpath)\n",
    "            continue\n",
    "    \n",
    "    n_imgs = len(os.listdir(cat_dir))    \n",
    "    print(\"{} class has {} images\".format(category, n_imgs))\n",
    "    \n",
    "    ## Train Dataset중 일부를 Validation Dataset directory로 이동\n",
    "    train_idx, val_idx = train_test_split(np.arange(n_imgs), train_size=(1.-val_ratio))\n",
    "    \n",
    "    val_cat_dir = os.path.join(val_dir, category)\n",
    "    os.makedirs(val_cat_dir, exist_ok=True)\n",
    "    \n",
    "    fnames = os.listdir(cat_dir)\n",
    "    val_cnt = 0\n",
    "    for idx, fname in enumerate(fnames):\n",
    "        fpath = os.path.join(cat_dir, fname)\n",
    "        if idx in val_idx:\n",
    "            shutil.move(fpath, val_cat_dir)\n",
    "            val_cnt += 1\n",
    "    print(\"{} images are moved to the validation dataset\".format(val_cnt))\n",
    "    print(\"{} images are in the train dataset\".format(n_imgs - val_cnt))\n",
    "    print()"
   ]
  },
  {
   "cell_type": "code",
   "execution_count": null,
   "metadata": {
    "colab": {},
    "colab_type": "code",
    "id": "4mL2Hd7pgkZK"
   },
   "outputs": [],
   "source": []
  }
 ],
 "metadata": {
  "accelerator": "GPU",
  "colab": {
   "name": "train_val_split-Copy1.ipynb",
   "provenance": [],
   "version": "0.3.2"
  },
  "kernelspec": {
   "display_name": "Python 3",
   "language": "python",
   "name": "python3"
  },
  "language_info": {
   "codemirror_mode": {
    "name": "ipython",
    "version": 3
   },
   "file_extension": ".py",
   "mimetype": "text/x-python",
   "name": "python",
   "nbconvert_exporter": "python",
   "pygments_lexer": "ipython3",
   "version": "3.5.6"
  }
 },
 "nbformat": 4,
 "nbformat_minor": 1
}
