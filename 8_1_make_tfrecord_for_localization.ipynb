{
  "nbformat": 4,
  "nbformat_minor": 0,
  "metadata": {
    "colab": {
      "name": "8_1.make_tfrecord_for_localization.ipynb",
      "version": "0.3.2",
      "provenance": [],
      "collapsed_sections": [],
      "toc_visible": true
    },
    "kernelspec": {
      "name": "python3",
      "display_name": "Python 3"
    },
    "accelerator": "GPU"
  },
  "cells": [
    {
      "cell_type": "markdown",
      "metadata": {
        "id": "8bOuVRPmjrlo",
        "colab_type": "text"
      },
      "source": [
        "## Oxford-IIIT Pet Dataset 을 이용하여 localization을 위한 tfrecord 파일 만들기\n",
        "\n",
        "이 실습에서는 Oxford-IIIT Pet Dataset을 training과 validation data로 나누고, tfrecord 파일로 저장하는 부분까지 진행합니다.\n",
        "\n"
      ]
    },
    {
      "cell_type": "code",
      "metadata": {
        "id": "HvGluePdkO7K",
        "colab_type": "code",
        "colab": {
          "base_uri": "https://localhost:8080/",
          "height": 36
        },
        "outputId": "7bb02610-57ff-48b8-a9bf-5cfb518a3a06"
      },
      "source": [
        "## library import\n",
        "import tensorflow as tf\n",
        "import numpy as np\n",
        "import os\n",
        "from PIL import Image\n",
        "import shutil\n",
        "import xml.etree.ElementTree as et\n",
        "from sklearn.model_selection import train_test_split\n",
        "print(tf.__version__)"
      ],
      "execution_count": 1,
      "outputs": [
        {
          "output_type": "stream",
          "text": [
            "2.0.0-beta1\n"
          ],
          "name": "stdout"
        }
      ]
    },
    {
      "cell_type": "code",
      "metadata": {
        "id": "N8piKVoMkYp3",
        "colab_type": "code",
        "colab": {
          "base_uri": "https://localhost:8080/",
          "height": 36
        },
        "outputId": "f13a02fb-826e-4539-fc0c-fdb053014b26"
      },
      "source": [
        "cd '/content/gdrive/My Drive/TensorFlow_Training_13th'"
      ],
      "execution_count": 2,
      "outputs": [
        {
          "output_type": "stream",
          "text": [
            "/content/gdrive/My Drive/TensorFlow_Training_13th\n"
          ],
          "name": "stdout"
        }
      ]
    },
    {
      "cell_type": "code",
      "metadata": {
        "id": "zGlWeklkknGO",
        "colab_type": "code",
        "colab": {}
      },
      "source": [
        "## directory 정보\n",
        "cur_dir = os.getcwd()\n",
        "data_dir = os.path.join(cur_dir, 'oxford_pet')\n",
        "image_dir = os.path.join(data_dir, 'images')\n",
        "anno_dir = os.path.join(data_dir, 'annotations', 'xmls')"
      ],
      "execution_count": 0,
      "outputs": []
    },
    {
      "cell_type": "code",
      "metadata": {
        "id": "KzeNFFJWkpIa",
        "colab_type": "code",
        "colab": {
          "base_uri": "https://localhost:8080/",
          "height": 36
        },
        "outputId": "b46b24e9-deae-45f1-8cda-109e00900009"
      },
      "source": [
        "## localization을 위한 annotation이 되어 있는 file의 수 확인\n",
        "anno_files = [fname for fname in os.listdir(anno_dir) if os.path.splitext(fname)[-1] == '.xml']\n",
        "len(anno_files)"
      ],
      "execution_count": 5,
      "outputs": [
        {
          "output_type": "execute_result",
          "data": {
            "text/plain": [
              "3686"
            ]
          },
          "metadata": {
            "tags": []
          },
          "execution_count": 5
        }
      ]
    },
    {
      "cell_type": "code",
      "metadata": {
        "id": "td--O0jfkq4J",
        "colab_type": "code",
        "colab": {
          "base_uri": "https://localhost:8080/",
          "height": 36
        },
        "outputId": "519094b2-e041-481a-81b1-47e807598fc0"
      },
      "source": [
        "## image file의 수 확인\n",
        "img_files = [fname for fname in os.listdir(image_dir) if os.path.splitext(fname)[-1] == '.jpg']\n",
        "len(img_files)"
      ],
      "execution_count": 6,
      "outputs": [
        {
          "output_type": "execute_result",
          "data": {
            "text/plain": [
              "7390"
            ]
          },
          "metadata": {
            "tags": []
          },
          "execution_count": 6
        }
      ]
    },
    {
      "cell_type": "code",
      "metadata": {
        "id": "sz68nyktk728",
        "colab_type": "code",
        "colab": {}
      },
      "source": [
        "## 개와 고양이 directory로 생성\n",
        "dog_dir = os.path.join(data_dir, 'dogs')\n",
        "cat_dir = os.path.join(data_dir, 'cats')\n",
        "os.makedirs(dog_dir, exist_ok=True)\n",
        "os.makedirs(cat_dir, exist_ok=True)"
      ],
      "execution_count": 0,
      "outputs": []
    },
    {
      "cell_type": "code",
      "metadata": {
        "id": "OUwBUpv1lEDI",
        "colab_type": "code",
        "colab": {}
      },
      "source": [
        "## segmentation을 위한 annotation이 되어 있는 directory 경로 설정\n",
        "seg_dir = os.path.join(data_dir, 'annotations', 'trimaps')"
      ],
      "execution_count": 0,
      "outputs": []
    },
    {
      "cell_type": "code",
      "metadata": {
        "id": "1UHutupxlNfp",
        "colab_type": "code",
        "colab": {}
      },
      "source": [
        "'''localization을 위한 annotation이 되어 있는 directory에서 file을 하나씩 읽어서, \n",
        "관련된 image file을 찾은 뒤, 개 image는 dogs 디렉토리에, 고양이 image는 cats 디렉토리에 복사\n",
        "이 때 file 이름이 대문자로 시작하면 고양이, 소문자로 시작하면 개의 image 임을 이용함\n",
        "또 이 image들이 segmentaion을 위한 annotation도 되어 있는지 확인함'''\n",
        "\n",
        "cat_cnt = 0\n",
        "dog_cnt = 0\n",
        "for anno_file in anno_files:\n",
        "    ## annotation 파일이름에서 확장자 뺀 앞부분만 추출\n",
        "    fname = os.path.splitext(anno_file)[0]\n",
        "    ## segmentation annotation은 png file format\n",
        "    sname = fname + '.png'\n",
        "    ## image file은 jpg format\n",
        "    fname = fname + '.jpg'\n",
        "    fpath = os.path.join(image_dir, fname)\n",
        "    ## file 이름의 첫글자가 소문자인지 확인\n",
        "    if fname[0].islower():\n",
        "        dog_cnt += 1\n",
        "        cpath = os.path.join(dog_dir, fname)\n",
        "    else:\n",
        "        cat_cnt += 1\n",
        "        cpath = os.path.join(cat_dir, fname)    \n",
        "    ## segmentation annotation도 있는지 확인\n",
        "    if sname not in os.listdir(seg_dir):\n",
        "        print(sname)\n",
        "    ## data copy\n",
        "    shutil.copy(fpath, cpath)"
      ],
      "execution_count": 0,
      "outputs": []
    },
    {
      "cell_type": "code",
      "metadata": {
        "id": "Fhs9fGpMl-ES",
        "colab_type": "code",
        "colab": {
          "base_uri": "https://localhost:8080/",
          "height": 74
        },
        "outputId": "efabc73e-480e-4d3a-8a92-4cbb830fff2a"
      },
      "source": [
        "print(\"총 복사된 image 수: {}\".format(dog_cnt+cat_cnt))\n",
        "print(\"개 image 수: {}\".format(dog_cnt))\n",
        "print(\"고양이 image 수: {}\".format(cat_cnt))"
      ],
      "execution_count": 10,
      "outputs": [
        {
          "output_type": "stream",
          "text": [
            "총 복사된 image 수: 3686\n",
            "개 image 수: 2498\n",
            "고양이 image 수: 1188\n"
          ],
          "name": "stdout"
        }
      ]
    },
    {
      "cell_type": "code",
      "metadata": {
        "id": "GPSnkW7CnTL9",
        "colab_type": "code",
        "colab": {}
      },
      "source": [
        "## validation data를 나누기 위한 directory 생성\n",
        "val_dir = os.path.join(data_dir, 'dogs_val')\n",
        "os.makedirs(val_dir, exist_ok=True)"
      ],
      "execution_count": 0,
      "outputs": []
    },
    {
      "cell_type": "code",
      "metadata": {
        "id": "mQt4lfyLnbml",
        "colab_type": "code",
        "colab": {}
      },
      "source": [
        "## train data와 validation data를 나누기 위한 index 생성\n",
        "train_idx, val_idx = train_test_split(np.arange(dog_cnt), train_size=0.80065)"
      ],
      "execution_count": 0,
      "outputs": []
    },
    {
      "cell_type": "code",
      "metadata": {
        "id": "YeX2_Kj4niHA",
        "colab_type": "code",
        "colab": {
          "base_uri": "https://localhost:8080/",
          "height": 55
        },
        "outputId": "890c0ba7-67bd-4788-a213-e75e691ef7af"
      },
      "source": [
        "## train, validation data 수 확인\n",
        "print(\"train data의 수: {}\".format(train_idx.shape[0]))\n",
        "print(\"validation data의 수: {}\".format(val_idx.shape[0]))"
      ],
      "execution_count": 14,
      "outputs": [
        {
          "output_type": "stream",
          "text": [
            "train data의 수: 2000\n",
            "validation data의 수: 498\n"
          ],
          "name": "stdout"
        }
      ]
    },
    {
      "cell_type": "code",
      "metadata": {
        "id": "u8n3w7E4ntJE",
        "colab_type": "code",
        "colab": {
          "base_uri": "https://localhost:8080/",
          "height": 55
        },
        "outputId": "718f9b08-12d9-4ff9-8694-a5e92098d8fe"
      },
      "source": [
        "## validation data를 validatino directory로 이동\n",
        "dog_files = os.listdir(dog_dir)\n",
        "\n",
        "val_cnt = 0\n",
        "for idx, dog_file in enumerate(dog_files):\n",
        "    fpath = os.path.join(dog_dir, dog_file)\n",
        "    mpath = os.path.join(val_dir, dog_file)\n",
        "    if idx in val_idx:\n",
        "        shutil.move(fpath, mpath)\n",
        "        val_cnt += 1\n",
        "print(val_cnt)\n",
        "print(dog_cnt - val_cnt)"
      ],
      "execution_count": 15,
      "outputs": [
        {
          "output_type": "stream",
          "text": [
            "498\n",
            "2000\n"
          ],
          "name": "stdout"
        }
      ]
    },
    {
      "cell_type": "markdown",
      "metadata": {
        "id": "iL3xB0fwn60N",
        "colab_type": "text"
      },
      "source": [
        "### TFRecord 파일 생성"
      ]
    },
    {
      "cell_type": "code",
      "metadata": {
        "id": "asslbxYEzqJf",
        "colab_type": "code",
        "colab": {
          "base_uri": "https://localhost:8080/",
          "height": 36
        },
        "outputId": "bd143194-e3b7-448e-aeea-12406f439e92"
      },
      "source": [
        "## library import\n",
        "import tensorflow as tf\n",
        "import numpy as np\n",
        "import os\n",
        "from PIL import Image\n",
        "\n",
        "print(tf.__version__)"
      ],
      "execution_count": 18,
      "outputs": [
        {
          "output_type": "stream",
          "text": [
            "2.0.0-beta1\n"
          ],
          "name": "stdout"
        }
      ]
    },
    {
      "cell_type": "code",
      "metadata": {
        "id": "bNEtLvq0zsEh",
        "colab_type": "code",
        "colab": {
          "base_uri": "https://localhost:8080/",
          "height": 36
        },
        "outputId": "0c3f0e36-ec5d-44cc-95b8-796d3ed3e9e6"
      },
      "source": [
        "cd '/content/gdrive/My Drive/TensorFlow_Training_13th'"
      ],
      "execution_count": 19,
      "outputs": [
        {
          "output_type": "stream",
          "text": [
            "/content/gdrive/My Drive/TensorFlow_Training_13th\n"
          ],
          "name": "stdout"
        }
      ]
    },
    {
      "cell_type": "code",
      "metadata": {
        "id": "opIfc84MzsIC",
        "colab_type": "code",
        "colab": {}
      },
      "source": [
        "cur_dir = os.getcwd()\n",
        "train_dir = os.path.join(data_dir, 'dogs')\n",
        "val_dir = os.path.join(data_dir, 'dogs_val')"
      ],
      "execution_count": 0,
      "outputs": []
    },
    {
      "cell_type": "code",
      "metadata": {
        "id": "i5xqyp4JoAR4",
        "colab_type": "code",
        "colab": {}
      },
      "source": [
        "## tfrecord 파일 저장할 directory 생성\n",
        "tfr_dir = os.path.join(cur_dir, 'dogs_tfr')\n",
        "os.makedirs(tfr_dir, exist_ok=True)"
      ],
      "execution_count": 0,
      "outputs": []
    },
    {
      "cell_type": "code",
      "metadata": {
        "id": "cRNdAMgloEfu",
        "colab_type": "code",
        "colab": {}
      },
      "source": [
        "## tfrecord 파일 경로 설정\n",
        "tfr_train = 'dogs_train.tfrecord'\n",
        "tfr_val = 'dogs_val.tfrecord'\n",
        "\n",
        "tfr_train_dir = os.path.join(tfr_dir, tfr_train)\n",
        "tfr_val_dir = os.path.join(tfr_dir, tfr_val)"
      ],
      "execution_count": 0,
      "outputs": []
    },
    {
      "cell_type": "code",
      "metadata": {
        "id": "AkEP7t6moI4S",
        "colab_type": "code",
        "colab": {}
      },
      "source": [
        "## tfrecord writer\n",
        "writer_train = tf.io.TFRecordWriter(tfr_train_dir)\n",
        "writer_val = tf.io.TFRecordWriter(tfr_val_dir)"
      ],
      "execution_count": 0,
      "outputs": []
    },
    {
      "cell_type": "code",
      "metadata": {
        "id": "29BRfh6ioMSg",
        "colab_type": "code",
        "colab": {}
      },
      "source": [
        "def _float_feature(value):\n",
        "    \"\"\"Returns a float_list from a float / double.\"\"\"\n",
        "    return tf.train.Feature(float_list=tf.train.FloatList(value=[value]))\n",
        "def _int64_feature(value):\n",
        "    return tf.train.Feature(int64_list=tf.train.Int64List(value=[value]))\n",
        "def _bytes_feature(value):\n",
        "    if isinstance(value, type(tf.constant(0))):\n",
        "        value = value.numpy()\n",
        "    return tf.train.Feature(bytes_list=tf.train.BytesList(value=[value]))"
      ],
      "execution_count": 0,
      "outputs": []
    },
    {
      "cell_type": "code",
      "metadata": {
        "id": "mprtgMmapIMf",
        "colab_type": "code",
        "colab": {
          "base_uri": "https://localhost:8080/",
          "height": 36
        },
        "outputId": "b21dd303-684c-46af-dcc5-1959e5613fa2"
      },
      "source": [
        "## train data의 tfrecord file 생성\n",
        "img_size = 224\n",
        "fnames = os.listdir(train_dir)\n",
        "n_train = 0\n",
        "for fname in fnames:\n",
        "    ## train data directory에서 file을 읽어서 serialize\n",
        "    fpath = os.path.join(train_dir, fname)\n",
        "    img = Image.open(fpath)\n",
        "    img = img.resize((img_size, img_size))\n",
        "    img = np.asarray(img)\n",
        "    img_str = img.tobytes()\n",
        "    \n",
        "    '''bounding box의 정보가 있는 xml file을 열어서 좌표 정보를 parsing한 후,\n",
        "    boudnign box의 중심점의 x, y 좌표와 width, height를 계산함\n",
        "    이 때 0~1사이의 값이 되도록 width와 height로 나눠줌'''\n",
        "    aname = os.path.splitext(fname)[0] + '.xml'\n",
        "    apath = os.path.join(anno_dir, aname)\n",
        "    tree = et.parse(apath)\n",
        "    ## xml file parsing\n",
        "    width = float(tree.find('./size/width').text)\n",
        "    height = float(tree.find('./size/height').text)\n",
        "    xmin = float(tree.find('./object/bndbox/xmin').text)\n",
        "    ymin = float(tree.find('./object/bndbox/ymin').text)\n",
        "    xmax = float(tree.find('./object/bndbox/xmax').text)\n",
        "    ymax = float(tree.find('./object/bndbox/ymax').text)\n",
        "    ## x, y, w, h 계산\n",
        "    xc = (xmin+xmax)/2.\n",
        "    yc = (ymin+ymax)/2.\n",
        "    x = xc/width\n",
        "    y = yc/height\n",
        "    w = (xmax-xmin)/width\n",
        "    h = (ymax-ymin)/height\n",
        "    \n",
        "    ## tfrecord file로 write\n",
        "    example = tf.train.Example(features=tf.train.Features(feature={\n",
        "            'image': _bytes_feature(img_str),\n",
        "            'x': _float_feature(x),\n",
        "            'y': _float_feature(y),\n",
        "            'w': _float_feature(w),\n",
        "            'h': _float_feature(h)}))\n",
        "    writer_train.write(example.SerializeToString())\n",
        "    n_train += 1\n",
        "\n",
        "print(n_train)"
      ],
      "execution_count": 25,
      "outputs": [
        {
          "output_type": "stream",
          "text": [
            "2000\n"
          ],
          "name": "stdout"
        }
      ]
    },
    {
      "cell_type": "code",
      "metadata": {
        "id": "hNf_hXmhp70x",
        "colab_type": "code",
        "colab": {
          "base_uri": "https://localhost:8080/",
          "height": 36
        },
        "outputId": "9882da51-b145-4700-cab2-9fb6c2d84908"
      },
      "source": [
        "## train data의 tfrecord file 생성\n",
        "img_size = 224\n",
        "fnames = os.listdir(val_dir)\n",
        "n_val = 0\n",
        "for fname in fnames:\n",
        "    ## validation data directory에서 file을 읽어서 serialize\n",
        "    fpath = os.path.join(val_dir, fname)\n",
        "    img = Image.open(fpath)\n",
        "    img = img.resize((img_size, img_size))\n",
        "    img = np.asarray(img)\n",
        "    img_str = img.tobytes()\n",
        "    \n",
        "    '''bounding box의 정보가 있는 xml file을 열어서 좌표 정보를 parsing한 후,\n",
        "    boudnign box의 중심점의 x, y 좌표와 width, height를 계산함\n",
        "    이 때 0~1사이의 값이 되도록 width와 height로 나눠줌'''\n",
        "    aname = os.path.splitext(fname)[0] + '.xml'\n",
        "    apath = os.path.join(anno_dir, aname)\n",
        "    tree = et.parse(apath)\n",
        "    ## xml file parsing\n",
        "    width = float(tree.find('./size/width').text)\n",
        "    height = float(tree.find('./size/height').text)\n",
        "    xmin = float(tree.find('./object/bndbox/xmin').text)\n",
        "    ymin = float(tree.find('./object/bndbox/ymin').text)\n",
        "    xmax = float(tree.find('./object/bndbox/xmax').text)\n",
        "    ymax = float(tree.find('./object/bndbox/ymax').text)\n",
        "    ## x, y, w, h 계산\n",
        "    xc = (xmin+xmax)/2.\n",
        "    yc = (ymin+ymax)/2.\n",
        "    x = xc/width\n",
        "    y = yc/height\n",
        "    w = (xmax-xmin)/width\n",
        "    h = (ymax-ymin)/height\n",
        "    \n",
        "    ## tfrecord file로 write\n",
        "    example = tf.train.Example(features=tf.train.Features(feature={\n",
        "            'image': _bytes_feature(img_str),\n",
        "            'x': _float_feature(x),\n",
        "            'y': _float_feature(y),\n",
        "            'w': _float_feature(w),\n",
        "            'h': _float_feature(h)}))\n",
        "    writer_val.write(example.SerializeToString())\n",
        "    n_val += 1\n",
        "\n",
        "print(n_val)"
      ],
      "execution_count": 26,
      "outputs": [
        {
          "output_type": "stream",
          "text": [
            "498\n"
          ],
          "name": "stdout"
        }
      ]
    },
    {
      "cell_type": "code",
      "metadata": {
        "id": "bMonWBGAqNRV",
        "colab_type": "code",
        "colab": {
          "base_uri": "https://localhost:8080/",
          "height": 74
        },
        "outputId": "0a8b9c99-5e6b-4416-d3cd-d40972e86cb6"
      },
      "source": [
        "## file이 제대로 생성되었는지 확인\n",
        "!ls -l 'dogs_tfr'"
      ],
      "execution_count": 27,
      "outputs": [
        {
          "output_type": "stream",
          "text": [
            "total 367458\n",
            "-rw------- 1 root root 301262000 Aug  3 00:12 dogs_train.tfrecord\n",
            "-rw------- 1 root root  75014238 Aug  3 00:12 dogs_val.tfrecord\n"
          ],
          "name": "stdout"
        }
      ]
    },
    {
      "cell_type": "code",
      "metadata": {
        "id": "-QoJX0QQqZj-",
        "colab_type": "code",
        "colab": {}
      },
      "source": [
        ""
      ],
      "execution_count": 0,
      "outputs": []
    }
  ]
}