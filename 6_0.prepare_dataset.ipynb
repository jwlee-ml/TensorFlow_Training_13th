{
 "cells": [
  {
   "cell_type": "code",
   "execution_count": null,
   "metadata": {
    "colab": {
     "base_uri": "https://localhost:8080/",
     "height": 134
    },
    "colab_type": "code",
    "executionInfo": {
     "elapsed": 31913,
     "status": "ok",
     "timestamp": 1563577359765,
     "user": {
      "displayName": "JinWon Lee",
      "photoUrl": "https://lh3.googleusercontent.com/-xi53GhRlwag/AAAAAAAAAAI/AAAAAAAAAAs/gpZpyx29RY4/s64/photo.jpg",
      "userId": "09449089977781029916"
     },
     "user_tz": -540
    },
    "id": "6NOzVfqxZxpj",
    "outputId": "2d6887ec-250d-4199-cae9-f96868955619"
   },
   "outputs": [],
   "source": [
    "from google.colab import drive\n",
    "import os\n",
    "if not os.path.exists('/content/gdrive'):\n",
    "    drive.mount('/content/gdrive')"
   ]
  },
  {
   "cell_type": "code",
   "execution_count": null,
   "metadata": {
    "colab": {
     "base_uri": "https://localhost:8080/",
     "height": 37
    },
    "colab_type": "code",
    "executionInfo": {
     "elapsed": 1076,
     "status": "ok",
     "timestamp": 1563577387546,
     "user": {
      "displayName": "JinWon Lee",
      "photoUrl": "https://lh3.googleusercontent.com/-xi53GhRlwag/AAAAAAAAAAI/AAAAAAAAAAs/gpZpyx29RY4/s64/photo.jpg",
      "userId": "09449089977781029916"
     },
     "user_tz": -540
    },
    "id": "Ic-NMrP2Z-OY",
    "outputId": "f5e3db80-c5a8-45de-bd68-3a4de0d855a2"
   },
   "outputs": [],
   "source": [
    "cd '/content/gdrive/My Drive/TensorFlow_Training_13th'"
   ]
  },
  {
   "cell_type": "code",
   "execution_count": null,
   "metadata": {
    "colab": {
     "base_uri": "https://localhost:8080/",
     "height": 520
    },
    "colab_type": "code",
    "executionInfo": {
     "elapsed": 5193,
     "status": "ok",
     "timestamp": 1563577392243,
     "user": {
      "displayName": "JinWon Lee",
      "photoUrl": "https://lh3.googleusercontent.com/-xi53GhRlwag/AAAAAAAAAAI/AAAAAAAAAAs/gpZpyx29RY4/s64/photo.jpg",
      "userId": "09449089977781029916"
     },
     "user_tz": -540
    },
    "id": "foT9tL_CaOGE",
    "outputId": "6fbf797d-ff2d-49c7-867b-b5d8427f212e"
   },
   "outputs": [],
   "source": [
    "ls"
   ]
  },
  {
   "cell_type": "code",
   "execution_count": null,
   "metadata": {
    "colab": {
     "base_uri": "https://localhost:8080/",
     "height": 1000
    },
    "colab_type": "code",
    "executionInfo": {
     "elapsed": 85713,
     "status": "ok",
     "timestamp": 1563577473359,
     "user": {
      "displayName": "JinWon Lee",
      "photoUrl": "https://lh3.googleusercontent.com/-xi53GhRlwag/AAAAAAAAAAI/AAAAAAAAAAs/gpZpyx29RY4/s64/photo.jpg",
      "userId": "09449089977781029916"
     },
     "user_tz": -540
    },
    "id": "CuEhVS3LWvfF",
    "outputId": "07d42a09-197e-4995-b9ff-78117c35950d"
   },
   "outputs": [],
   "source": [
    "!unzip simpsons_train.zip -d ./simpsons_train"
   ]
  },
  {
   "cell_type": "code",
   "execution_count": null,
   "metadata": {
    "colab": {
     "base_uri": "https://localhost:8080/",
     "height": 539
    },
    "colab_type": "code",
    "executionInfo": {
     "elapsed": 87260,
     "status": "ok",
     "timestamp": 1563577476487,
     "user": {
      "displayName": "JinWon Lee",
      "photoUrl": "https://lh3.googleusercontent.com/-xi53GhRlwag/AAAAAAAAAAI/AAAAAAAAAAs/gpZpyx29RY4/s64/photo.jpg",
      "userId": "09449089977781029916"
     },
     "user_tz": -540
    },
    "id": "pnztB86HWzEN",
    "outputId": "b6ee9c2a-4111-40ac-b96f-3cc35162ad81"
   },
   "outputs": [],
   "source": [
    "ls"
   ]
  },
  {
   "cell_type": "code",
   "execution_count": null,
   "metadata": {
    "colab": {
     "base_uri": "https://localhost:8080/",
     "height": 95
    },
    "colab_type": "code",
    "executionInfo": {
     "elapsed": 83622,
     "status": "ok",
     "timestamp": 1563577479311,
     "user": {
      "displayName": "JinWon Lee",
      "photoUrl": "https://lh3.googleusercontent.com/-xi53GhRlwag/AAAAAAAAAAI/AAAAAAAAAAs/gpZpyx29RY4/s64/photo.jpg",
      "userId": "09449089977781029916"
     },
     "user_tz": -540
    },
    "id": "piAmI_dsW3El",
    "outputId": "9b2c33b8-5755-446a-cf0e-0cf1fcfd8848"
   },
   "outputs": [],
   "source": [
    "ls simpsons_train"
   ]
  },
  {
   "cell_type": "code",
   "execution_count": null,
   "metadata": {
    "colab": {},
    "colab_type": "code",
    "id": "4b0ls8ZHW4Pd"
   },
   "outputs": [],
   "source": []
  }
 ],
 "metadata": {
  "accelerator": "GPU",
  "colab": {
   "name": "6_0.prepare_dataset.ipynb",
   "provenance": [],
   "version": "0.3.2"
  },
  "kernelspec": {
   "display_name": "Python 3",
   "language": "python",
   "name": "python3"
  },
  "language_info": {
   "codemirror_mode": {
    "name": "ipython",
    "version": 3
   },
   "file_extension": ".py",
   "mimetype": "text/x-python",
   "name": "python",
   "nbconvert_exporter": "python",
   "pygments_lexer": "ipython3",
   "version": "3.5.6"
  }
 },
 "nbformat": 4,
 "nbformat_minor": 1
}
