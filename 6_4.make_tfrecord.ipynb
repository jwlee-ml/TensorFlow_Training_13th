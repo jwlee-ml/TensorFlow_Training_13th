{
 "cells": [
  {
   "cell_type": "code",
   "execution_count": null,
   "metadata": {
    "colab": {},
    "colab_type": "code",
    "id": "wARzlZm1gTlF"
   },
   "outputs": [],
   "source": [
    "import numpy as np\n",
    "import os\n",
    "import shutil\n",
    "import tensorflow as tf\n",
    "from tensorflow import keras\n",
    "from PIL import Image"
   ]
  },
  {
   "cell_type": "code",
   "execution_count": null,
   "metadata": {
    "colab": {
     "base_uri": "https://localhost:8080/",
     "height": 37
    },
    "colab_type": "code",
    "executionInfo": {
     "elapsed": 2429,
     "status": "ok",
     "timestamp": 1563578198681,
     "user": {
      "displayName": "JinWon Lee",
      "photoUrl": "https://lh3.googleusercontent.com/-xi53GhRlwag/AAAAAAAAAAI/AAAAAAAAAAs/gpZpyx29RY4/s64/photo.jpg",
      "userId": "09449089977781029916"
     },
     "user_tz": -540
    },
    "id": "zQe8ciINgTlI",
    "outputId": "b231bc64-0730-45d8-9d6f-1cbaafd5eb3e"
   },
   "outputs": [],
   "source": [
    "cd '/content/gdrive/My Drive/TensorFlow_Training_13th'"
   ]
  },
  {
   "cell_type": "code",
   "execution_count": null,
   "metadata": {
    "colab": {
     "base_uri": "https://localhost:8080/",
     "height": 75
    },
    "colab_type": "code",
    "executionInfo": {
     "elapsed": 2092,
     "status": "ok",
     "timestamp": 1563578198682,
     "user": {
      "displayName": "JinWon Lee",
      "photoUrl": "https://lh3.googleusercontent.com/-xi53GhRlwag/AAAAAAAAAAI/AAAAAAAAAAs/gpZpyx29RY4/s64/photo.jpg",
      "userId": "09449089977781029916"
     },
     "user_tz": -540
    },
    "id": "Ok5pXpnLgTlK",
    "outputId": "393c8e6d-4077-4a59-b579-c2ac05a300ad"
   },
   "outputs": [],
   "source": [
    "cur_dir = os.getcwd()\n",
    "\n",
    "train_dir = os.path.join(cur_dir, 'simpsons_train')\n",
    "val_dir = os.path.join(cur_dir, 'simpsons_val')\n",
    "\n",
    "n_class = len(os.listdir(train_dir))\n",
    "print(\"This Dataset has {} classes\".format(n_class))\n",
    "\n",
    "n_train = 0\n",
    "n_val = 0\n",
    "for _, _, files in os.walk(train_dir):\n",
    "    if files:\n",
    "        n_train += len(files)\n",
    "for _, _, files in os.walk(val_dir):\n",
    "    if files:\n",
    "        n_val += len(files)\n",
    "        \n",
    "print(\"Train Dataset has {} images\".format(n_train))\n",
    "print(\"Validation Dataset has {} images\".format(n_val))"
   ]
  },
  {
   "cell_type": "code",
   "execution_count": null,
   "metadata": {
    "colab": {},
    "colab_type": "code",
    "id": "QDVLnWO6gTlO"
   },
   "outputs": [],
   "source": [
    "img_size = 150"
   ]
  },
  {
   "cell_type": "code",
   "execution_count": null,
   "metadata": {
    "colab": {},
    "colab_type": "code",
    "id": "UJFoOz2NgTlQ"
   },
   "outputs": [],
   "source": [
    "tfrecord_dir = os.path.join(cur_dir, 'tfrecords')\n",
    "tfrecord_train = 'simpsons_train.tfrecord'\n",
    "tfrecord_val = 'simpsons_val.tfrecord'\n",
    "\n",
    "os.makedirs(tfrecord_dir, exist_ok=True)"
   ]
  },
  {
   "cell_type": "code",
   "execution_count": null,
   "metadata": {
    "colab": {},
    "colab_type": "code",
    "id": "gSeg7GN5gTlS"
   },
   "outputs": [],
   "source": [
    "train_tfr_dir = os.path.join(tfrecord_dir, tfrecord_train)\n",
    "val_tfr_dir = os.path.join(tfrecord_dir, tfrecord_val)\n",
    "\n",
    "writer_train = tf.io.TFRecordWriter(train_tfr_dir)\n",
    "writer_val = tf.io.TFRecordWriter(val_tfr_dir)"
   ]
  },
  {
   "cell_type": "code",
   "execution_count": null,
   "metadata": {
    "colab": {},
    "colab_type": "code",
    "id": "VCOJ-bCPgTlU"
   },
   "outputs": [],
   "source": [
    "def _int64_feature(value):\n",
    "    return tf.train.Feature(int64_list=tf.train.Int64List(value=[value]))\n",
    "\n",
    "def _bytes_feature(value):\n",
    "    if isinstance(value, type(tf.constant(0))):\n",
    "        value = value.numpy()\n",
    "    return tf.train.Feature(bytes_list=tf.train.BytesList(value=[value]))"
   ]
  },
  {
   "cell_type": "code",
   "execution_count": null,
   "metadata": {
    "colab": {
     "base_uri": "https://localhost:8080/",
     "height": 269
    },
    "colab_type": "code",
    "executionInfo": {
     "elapsed": 43590,
     "status": "ok",
     "timestamp": 1563578244593,
     "user": {
      "displayName": "JinWon Lee",
      "photoUrl": "https://lh3.googleusercontent.com/-xi53GhRlwag/AAAAAAAAAAI/AAAAAAAAAAs/gpZpyx29RY4/s64/photo.jpg",
      "userId": "09449089977781029916"
     },
     "user_tz": -540
    },
    "id": "KISLwxmOgTlW",
    "outputId": "e76ed8f7-5103-4192-ea33-fb5ffb66f88d"
   },
   "outputs": [],
   "source": [
    "train_classes = sorted([dname for dname in os.listdir(train_dir) if os.path.isdir(os.path.join(train_dir, dname))])\n",
    "n_train = 0\n",
    "for label, train_class in enumerate(train_classes):\n",
    "    print(\"saving data from {}...\".format(train_class))\n",
    "    cat_dir = os.path.join(train_dir, train_class)\n",
    "    fnames = os.listdir(cat_dir)\n",
    "    \n",
    "    for fname in fnames:\n",
    "        fpath = os.path.join(cat_dir, fname)\n",
    "        img = Image.open(fpath)\n",
    "        img = img.resize((img_size, img_size))\n",
    "        img = np.asarray(img)          \n",
    "        img_str = img.tobytes()\n",
    "        example = tf.train.Example(features=tf.train.Features(feature={\n",
    "            'image': _bytes_feature(img_str),\n",
    "            'label': _int64_feature(label)}))\n",
    "        writer_train.write(example.SerializeToString())\n",
    "        n_train += 1\n",
    "print(\"{} train images are saved\".format(n_train))"
   ]
  },
  {
   "cell_type": "code",
   "execution_count": null,
   "metadata": {
    "colab": {
     "base_uri": "https://localhost:8080/",
     "height": 269
    },
    "colab_type": "code",
    "executionInfo": {
     "elapsed": 54506,
     "status": "ok",
     "timestamp": 1563578257715,
     "user": {
      "displayName": "JinWon Lee",
      "photoUrl": "https://lh3.googleusercontent.com/-xi53GhRlwag/AAAAAAAAAAI/AAAAAAAAAAs/gpZpyx29RY4/s64/photo.jpg",
      "userId": "09449089977781029916"
     },
     "user_tz": -540
    },
    "id": "jxDxyftbgTlY",
    "outputId": "022d31f1-117c-4941-e217-4baf383c2d8b"
   },
   "outputs": [],
   "source": [
    "val_classes = sorted([dname for dname in os.listdir(val_dir) if os.path.isdir(os.path.join(val_dir, dname))])\n",
    "n_val = 0\n",
    "for label, val_class in enumerate(val_classes):\n",
    "    print(\"saving data from {}...\".format(val_class))\n",
    "    cat_dir = os.path.join(val_dir, val_class)\n",
    "    fnames = os.listdir(cat_dir)\n",
    "    \n",
    "    for fname in fnames:\n",
    "        fpath = os.path.join(cat_dir, fname)\n",
    "        img = Image.open(fpath)\n",
    "        img = img.resize((img_size, img_size))\n",
    "        img = np.asarray(img)\n",
    "        img_str = img.tobytes()\n",
    "        example = tf.train.Example(features=tf.train.Features(feature={\n",
    "            'image': _bytes_feature(img_str),\n",
    "            'label': _int64_feature(label)}))\n",
    "        writer_val.write(example.SerializeToString())\n",
    "        n_val += 1\n",
    "print(\"{} validation images are saved\".format(n_val))"
   ]
  },
  {
   "cell_type": "code",
   "execution_count": null,
   "metadata": {
    "colab": {},
    "colab_type": "code",
    "id": "XvmI-e6RgTlb"
   },
   "outputs": [],
   "source": []
  }
 ],
 "metadata": {
  "accelerator": "GPU",
  "colab": {
   "name": "make_tfrecord.ipynb",
   "provenance": [],
   "version": "0.3.2"
  },
  "kernelspec": {
   "display_name": "Python 3",
   "language": "python",
   "name": "python3"
  },
  "language_info": {
   "codemirror_mode": {
    "name": "ipython",
    "version": 3
   },
   "file_extension": ".py",
   "mimetype": "text/x-python",
   "name": "python",
   "nbconvert_exporter": "python",
   "pygments_lexer": "ipython3",
   "version": "3.5.6"
  }
 },
 "nbformat": 4,
 "nbformat_minor": 1
}
