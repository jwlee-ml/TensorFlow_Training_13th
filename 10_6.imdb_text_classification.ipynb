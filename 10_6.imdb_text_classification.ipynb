{
 "cells": [
  {
   "cell_type": "markdown",
   "metadata": {},
   "source": [
    "# IMDB dataset을 이용한 text classification\n",
    "\n",
    "- forked from https://github.com/tensorflow/docs/blob/master/site/ko/tutorials/keras/text_classification.ipynb   \n",
    "\n",
    "\n",
    "이번 실습에서는 IMDB(Internet Movie DataBase) dataset을 이용하여,   \n",
    "영화평에 대한 긍정/부정의 sentimental anaylsis classification을 학습해봅니다."
   ]
  },
  {
   "cell_type": "markdown",
   "metadata": {},
   "source": [
    "이 노트북은 영화 리뷰(review) 텍스트를 긍정(positive) 또는 부정(negative)으로 분류합니다. 이 예제는 이진(binary)-또는 클래스(class)가 두 개인- 분류 문제입니다. 이진 분류는 머신러닝에서 중요하고 널리 사용됩니다.\n",
    "\n",
    "여기에서는 인터넷 영화 데이터베이스(Internet Movie Database)에서 수집한 50,000개의 영화 리뷰 텍스트를 담은 IMDB 데이터셋을 사용하겠습니다. 25,000개 리뷰는 훈련용으로, 25,000개는 테스트용으로 나뉘어져 있습니다. 훈련 세트와 테스트 세트의 클래스는 균형이 잡혀 있습니다. 즉 긍정적인 리뷰와 부정적인 리뷰의 개수가 동일합니다."
   ]
  },
  {
   "cell_type": "code",
   "execution_count": 1,
   "metadata": {},
   "outputs": [
    {
     "name": "stdout",
     "output_type": "stream",
     "text": [
      "2.0.0-beta1\n",
      "2.2.4-tf\n"
     ]
    }
   ],
   "source": [
    "## library import\n",
    "import tensorflow as tf\n",
    "from tensorflow import keras\n",
    "from tensorflow.keras import layers\n",
    "from tensorflow.keras.utils import to_categorical\n",
    "import numpy as np\n",
    "import matplotlib.pyplot as plt\n",
    "\n",
    "print(tf.__version__)\n",
    "print(keras.__version__)"
   ]
  },
  {
   "cell_type": "markdown",
   "metadata": {},
   "source": [
    "## Preparing Data"
   ]
  },
  {
   "cell_type": "code",
   "execution_count": 2,
   "metadata": {},
   "outputs": [],
   "source": [
    "'''\n",
    "imdb data를 loading합니다\n",
    "num_words=vocab_size는 imdb data에서 가장 많이 등장하는 10000개의 단어만 선택하고,\n",
    "나머지는 unknown 처리하게 합니다\n",
    "'''\n",
    "\n",
    "vocab_size = 10000\n",
    "imdb = keras.datasets.imdb\n",
    "(train_data, train_labels), (test_data, test_labels) = imdb.load_data(num_words=vocab_size)"
   ]
  },
  {
   "cell_type": "code",
   "execution_count": 3,
   "metadata": {},
   "outputs": [
    {
     "name": "stdout",
     "output_type": "stream",
     "text": [
      "훈련 샘플: 25000, 레이블: 25000\n"
     ]
    }
   ],
   "source": [
    "print(\"훈련 샘플: {}, 레이블: {}\".format(len(train_data), len(train_labels)))"
   ]
  },
  {
   "cell_type": "code",
   "execution_count": 4,
   "metadata": {},
   "outputs": [
    {
     "name": "stdout",
     "output_type": "stream",
     "text": [
      "[1, 14, 22, 16, 43, 530, 973, 1622, 1385, 65, 458, 4468, 66, 3941, 4, 173, 36, 256, 5, 25, 100, 43, 838, 112, 50, 670, 2, 9, 35, 480, 284, 5, 150, 4, 172, 112, 167, 2, 336, 385, 39, 4, 172, 4536, 1111, 17, 546, 38, 13, 447, 4, 192, 50, 16, 6, 147, 2025, 19, 14, 22, 4, 1920, 4613, 469, 4, 22, 71, 87, 12, 16, 43, 530, 38, 76, 15, 13, 1247, 4, 22, 17, 515, 17, 12, 16, 626, 18, 2, 5, 62, 386, 12, 8, 316, 8, 106, 5, 4, 2223, 5244, 16, 480, 66, 3785, 33, 4, 130, 12, 16, 38, 619, 5, 25, 124, 51, 36, 135, 48, 25, 1415, 33, 6, 22, 12, 215, 28, 77, 52, 5, 14, 407, 16, 82, 2, 8, 4, 107, 117, 5952, 15, 256, 4, 2, 7, 3766, 5, 723, 36, 71, 43, 530, 476, 26, 400, 317, 46, 7, 4, 2, 1029, 13, 104, 88, 4, 381, 15, 297, 98, 32, 2071, 56, 26, 141, 6, 194, 7486, 18, 4, 226, 22, 21, 134, 476, 26, 480, 5, 144, 30, 5535, 18, 51, 36, 28, 224, 92, 25, 104, 4, 226, 65, 16, 38, 1334, 88, 12, 16, 283, 5, 16, 4472, 113, 103, 32, 15, 16, 5345, 19, 178, 32]\n"
     ]
    }
   ],
   "source": [
    "## 첫번째 data가 어떻게 구성되어 있는지 확인\n",
    "print(train_data[0])"
   ]
  },
  {
   "cell_type": "code",
   "execution_count": 5,
   "metadata": {},
   "outputs": [
    {
     "data": {
      "text/plain": [
       "(218, 189)"
      ]
     },
     "execution_count": 5,
     "metadata": {},
     "output_type": "execute_result"
    }
   ],
   "source": [
    "## 첫번째, 두번째 data의 단어 수 확인 - 각 data마다 단어 수가 다른 것을 알 수 있습니다\n",
    "len(train_data[0]), len(train_data[1])"
   ]
  },
  {
   "cell_type": "code",
   "execution_count": 6,
   "metadata": {},
   "outputs": [],
   "source": [
    "## 단어와 정수 인덱스를 매핑한 딕셔너리\n",
    "word_index = imdb.get_word_index()\n",
    "\n",
    "## 처음 몇 개 인덱스는 사전에 정의되어 있습니다\n",
    "word_index = {k:(v+3) for k,v in word_index.items()}\n",
    "word_index[\"<PAD>\"] = 0\n",
    "word_index[\"<START>\"] = 1\n",
    "word_index[\"<UNK>\"] = 2  # unknown\n",
    "word_index[\"<UNUSED>\"] = 3\n",
    "\n",
    "reverse_word_index = dict([(value, key) for (key, value) in word_index.items()])\n",
    "\n",
    "## 정수를 입력받아서 text를 출력해주는 함수\n",
    "def decode_review(text):\n",
    "    return ' '.join([reverse_word_index.get(i, '?') for i in text])"
   ]
  },
  {
   "cell_type": "code",
   "execution_count": 7,
   "metadata": {},
   "outputs": [
    {
     "data": {
      "text/plain": [
       "\"<START> this film was just brilliant casting location scenery story direction everyone's really suited the part they played and you could just imagine being there robert <UNK> is an amazing actor and now the same being director <UNK> father came from the same scottish island as myself so i loved the fact there was a real connection with this film the witty remarks throughout the film were great it was just brilliant so much that i bought the film as soon as it was released for <UNK> and would recommend it to everyone to watch and the fly fishing was amazing really cried at the end it was so sad and you know what they say if you cry at a film it must have been good and this definitely was also <UNK> to the two little boy's that played the <UNK> of norman and paul they were just brilliant children are often left out of the <UNK> list i think because the stars that play them all grown up are such a big profile for the whole film but these children are amazing and should be praised for what they have done don't you think the whole story was so lovely because it was true and was someone's life after all that was shared with us all\""
      ]
     },
     "execution_count": 7,
     "metadata": {},
     "output_type": "execute_result"
    }
   ],
   "source": [
    "## 첫번째 data를 text로 바꾸어 출력\n",
    "decode_review(train_data[0])"
   ]
  },
  {
   "cell_type": "code",
   "execution_count": 8,
   "metadata": {},
   "outputs": [],
   "source": [
    "## 문장의 최대 단어수 지정\n",
    "maxlen = 500\n",
    "\n",
    "## RNN에 넣기 위하여 모든 문장을 최대 단어수로 맞춰줍니다\n",
    "## 이 때 pad_sequence를 사용하여 문장의 뒷부분에 0(<PAD>)을 채우는 방식으로 padding을 해줍니다\n",
    "train_data = keras.preprocessing.sequence.pad_sequences(train_data,\n",
    "                                                        value=word_index[\"<PAD>\"],\n",
    "                                                        padding='post',\n",
    "                                                        maxlen=maxlen)\n",
    "\n",
    "test_data = keras.preprocessing.sequence.pad_sequences(test_data,\n",
    "                                                       value=word_index[\"<PAD>\"],\n",
    "                                                       padding='post',\n",
    "                                                       maxlen=maxlen)"
   ]
  },
  {
   "cell_type": "code",
   "execution_count": 9,
   "metadata": {},
   "outputs": [
    {
     "name": "stdout",
     "output_type": "stream",
     "text": [
      "[   1   14   22   16   43  530  973 1622 1385   65  458 4468   66 3941\n",
      "    4  173   36  256    5   25  100   43  838  112   50  670    2    9\n",
      "   35  480  284    5  150    4  172  112  167    2  336  385   39    4\n",
      "  172 4536 1111   17  546   38   13  447    4  192   50   16    6  147\n",
      " 2025   19   14   22    4 1920 4613  469    4   22   71   87   12   16\n",
      "   43  530   38   76   15   13 1247    4   22   17  515   17   12   16\n",
      "  626   18    2    5   62  386   12    8  316    8  106    5    4 2223\n",
      " 5244   16  480   66 3785   33    4  130   12   16   38  619    5   25\n",
      "  124   51   36  135   48   25 1415   33    6   22   12  215   28   77\n",
      "   52    5   14  407   16   82    2    8    4  107  117 5952   15  256\n",
      "    4    2    7 3766    5  723   36   71   43  530  476   26  400  317\n",
      "   46    7    4    2 1029   13  104   88    4  381   15  297   98   32\n",
      " 2071   56   26  141    6  194 7486   18    4  226   22   21  134  476\n",
      "   26  480    5  144   30 5535   18   51   36   28  224   92   25  104\n",
      "    4  226   65   16   38 1334   88   12   16  283    5   16 4472  113\n",
      "  103   32   15   16 5345   19  178   32    0    0    0    0    0    0\n",
      "    0    0    0    0    0    0    0    0    0    0    0    0    0    0\n",
      "    0    0    0    0    0    0    0    0    0    0    0    0    0    0\n",
      "    0    0    0    0    0    0    0    0    0    0    0    0    0    0\n",
      "    0    0    0    0    0    0    0    0    0    0    0    0    0    0\n",
      "    0    0    0    0    0    0    0    0    0    0    0    0    0    0\n",
      "    0    0    0    0    0    0    0    0    0    0    0    0    0    0\n",
      "    0    0    0    0    0    0    0    0    0    0    0    0    0    0\n",
      "    0    0    0    0    0    0    0    0    0    0    0    0    0    0\n",
      "    0    0    0    0    0    0    0    0    0    0    0    0    0    0\n",
      "    0    0    0    0    0    0    0    0    0    0    0    0    0    0\n",
      "    0    0    0    0    0    0    0    0    0    0    0    0    0    0\n",
      "    0    0    0    0    0    0    0    0    0    0    0    0    0    0\n",
      "    0    0    0    0    0    0    0    0    0    0    0    0    0    0\n",
      "    0    0    0    0    0    0    0    0    0    0    0    0    0    0\n",
      "    0    0    0    0    0    0    0    0    0    0    0    0    0    0\n",
      "    0    0    0    0    0    0    0    0    0    0    0    0    0    0\n",
      "    0    0    0    0    0    0    0    0    0    0    0    0    0    0\n",
      "    0    0    0    0    0    0    0    0    0    0    0    0    0    0\n",
      "    0    0    0    0    0    0    0    0    0    0    0    0    0    0\n",
      "    0    0    0    0    0    0    0    0    0    0]\n"
     ]
    }
   ],
   "source": [
    "## padding이 잘 되었는지 확인\n",
    "print(train_data[0])"
   ]
  },
  {
   "cell_type": "markdown",
   "metadata": {},
   "source": [
    "## Model"
   ]
  },
  {
   "cell_type": "code",
   "execution_count": 10,
   "metadata": {},
   "outputs": [
    {
     "name": "stdout",
     "output_type": "stream",
     "text": [
      "Model: \"sequential\"\n",
      "_________________________________________________________________\n",
      "Layer (type)                 Output Shape              Param #   \n",
      "=================================================================\n",
      "embedding (Embedding)        (None, 500, 16)           160000    \n",
      "_________________________________________________________________\n",
      "global_average_pooling1d (Gl (None, 16)                0         \n",
      "_________________________________________________________________\n",
      "dense (Dense)                (None, 16)                272       \n",
      "_________________________________________________________________\n",
      "dense_1 (Dense)              (None, 1)                 17        \n",
      "=================================================================\n",
      "Total params: 160,289\n",
      "Trainable params: 160,289\n",
      "Non-trainable params: 0\n",
      "_________________________________________________________________\n"
     ]
    }
   ],
   "source": [
    "## word embedding에서 사용할 word vector의 크기를 지정\n",
    "embedding_dim=16\n",
    "\n",
    "## Model 만들기\n",
    "## 여기서 CNN의 channel역할을 하는 것이 위에서 설정한 word vector의 크기입니다\n",
    "## 즉 golbal average pooling을 하면 batch_size, channel의 2차원의 output이 나옵니다\n",
    "model = keras.Sequential([\n",
    "  layers.Embedding(vocab_size, embedding_dim, input_length=maxlen),\n",
    "  layers.GlobalAveragePooling1D(),\n",
    "  layers.Dense(16, activation='relu'),\n",
    "  layers.Dense(1, activation='sigmoid')\n",
    "])\n",
    "\n",
    "model.summary()"
   ]
  },
  {
   "cell_type": "markdown",
   "metadata": {},
   "source": [
    "## Model Compile"
   ]
  },
  {
   "cell_type": "code",
   "execution_count": 11,
   "metadata": {},
   "outputs": [],
   "source": [
    "model.compile(optimizer='adam',\n",
    "              loss='binary_crossentropy',\n",
    "              metrics=['accuracy'])"
   ]
  },
  {
   "cell_type": "markdown",
   "metadata": {},
   "source": [
    "## Splitting Train/Validation data"
   ]
  },
  {
   "cell_type": "code",
   "execution_count": 12,
   "metadata": {},
   "outputs": [],
   "source": [
    "x_val = train_data[:10000]\n",
    "partial_x_train = train_data[10000:]\n",
    "\n",
    "y_val = train_labels[:10000]\n",
    "partial_y_train = train_labels[10000:]"
   ]
  },
  {
   "cell_type": "markdown",
   "metadata": {},
   "source": [
    "## Training"
   ]
  },
  {
   "cell_type": "code",
   "execution_count": 13,
   "metadata": {
    "scrolled": false
   },
   "outputs": [
    {
     "name": "stderr",
     "output_type": "stream",
     "text": [
      "WARNING: Logging before flag parsing goes to stderr.\n",
      "W0824 09:34:59.696611 16912 deprecation.py:323] From C:\\Users\\jwlee\\Anaconda3\\lib\\site-packages\\tensorflow\\python\\ops\\math_grad.py:1250: add_dispatch_support.<locals>.wrapper (from tensorflow.python.ops.array_ops) is deprecated and will be removed in a future version.\n",
      "Instructions for updating:\n",
      "Use tf.where in 2.0, which has the same broadcast rule as np.where\n"
     ]
    },
    {
     "name": "stdout",
     "output_type": "stream",
     "text": [
      "Train on 15000 samples, validate on 10000 samples\n",
      "Epoch 1/40\n",
      "15000/15000 [==============================] - 1s 91us/sample - loss: 0.6925 - accuracy: 0.5307 - val_loss: 0.6916 - val_accuracy: 0.5520\n",
      "Epoch 2/40\n",
      "15000/15000 [==============================] - 1s 63us/sample - loss: 0.6899 - accuracy: 0.5916 - val_loss: 0.6881 - val_accuracy: 0.5991\n",
      "Epoch 3/40\n",
      "15000/15000 [==============================] - 1s 62us/sample - loss: 0.6845 - accuracy: 0.6554 - val_loss: 0.6811 - val_accuracy: 0.6865\n",
      "Epoch 4/40\n",
      "15000/15000 [==============================] - 1s 63us/sample - loss: 0.6745 - accuracy: 0.6820 - val_loss: 0.6687 - val_accuracy: 0.7282\n",
      "Epoch 5/40\n",
      "15000/15000 [==============================] - 1s 62us/sample - loss: 0.6578 - accuracy: 0.7375 - val_loss: 0.6498 - val_accuracy: 0.7569\n",
      "Epoch 6/40\n",
      "15000/15000 [==============================] - 1s 62us/sample - loss: 0.6339 - accuracy: 0.7747 - val_loss: 0.6255 - val_accuracy: 0.7473\n",
      "Epoch 7/40\n",
      "15000/15000 [==============================] - 1s 62us/sample - loss: 0.6033 - accuracy: 0.7849 - val_loss: 0.5937 - val_accuracy: 0.7850\n",
      "Epoch 8/40\n",
      "15000/15000 [==============================] - 1s 62us/sample - loss: 0.5686 - accuracy: 0.8086 - val_loss: 0.5608 - val_accuracy: 0.8005\n",
      "Epoch 9/40\n",
      "15000/15000 [==============================] - 1s 62us/sample - loss: 0.5316 - accuracy: 0.8250 - val_loss: 0.5270 - val_accuracy: 0.8149\n",
      "Epoch 10/40\n",
      "15000/15000 [==============================] - 1s 62us/sample - loss: 0.4948 - accuracy: 0.8406 - val_loss: 0.4952 - val_accuracy: 0.8209\n",
      "Epoch 11/40\n",
      "15000/15000 [==============================] - 1s 62us/sample - loss: 0.4601 - accuracy: 0.8513 - val_loss: 0.4644 - val_accuracy: 0.8382\n",
      "Epoch 12/40\n",
      "15000/15000 [==============================] - 1s 61us/sample - loss: 0.4279 - accuracy: 0.8621 - val_loss: 0.4380 - val_accuracy: 0.8441\n",
      "Epoch 13/40\n",
      "15000/15000 [==============================] - 1s 61us/sample - loss: 0.3997 - accuracy: 0.8703 - val_loss: 0.4154 - val_accuracy: 0.8503\n",
      "Epoch 14/40\n",
      "15000/15000 [==============================] - 1s 61us/sample - loss: 0.3743 - accuracy: 0.8809 - val_loss: 0.3945 - val_accuracy: 0.8581\n",
      "Epoch 15/40\n",
      "15000/15000 [==============================] - 1s 63us/sample - loss: 0.3529 - accuracy: 0.8849 - val_loss: 0.3776 - val_accuracy: 0.8615\n",
      "Epoch 16/40\n",
      "15000/15000 [==============================] - 1s 62us/sample - loss: 0.3335 - accuracy: 0.8915 - val_loss: 0.3634 - val_accuracy: 0.8645\n",
      "Epoch 17/40\n",
      "15000/15000 [==============================] - 1s 62us/sample - loss: 0.3159 - accuracy: 0.8966 - val_loss: 0.3513 - val_accuracy: 0.8709\n",
      "Epoch 18/40\n",
      "15000/15000 [==============================] - 1s 62us/sample - loss: 0.3011 - accuracy: 0.9012 - val_loss: 0.3413 - val_accuracy: 0.8718\n",
      "Epoch 19/40\n",
      "15000/15000 [==============================] - 1s 61us/sample - loss: 0.2873 - accuracy: 0.9044 - val_loss: 0.3320 - val_accuracy: 0.8755\n",
      "Epoch 20/40\n",
      "15000/15000 [==============================] - 1s 62us/sample - loss: 0.2758 - accuracy: 0.9072 - val_loss: 0.3245 - val_accuracy: 0.8781\n",
      "Epoch 21/40\n",
      "15000/15000 [==============================] - 1s 66us/sample - loss: 0.2634 - accuracy: 0.9119 - val_loss: 0.3178 - val_accuracy: 0.8791\n",
      "Epoch 22/40\n",
      "15000/15000 [==============================] - 1s 64us/sample - loss: 0.2536 - accuracy: 0.9161 - val_loss: 0.3122 - val_accuracy: 0.8797\n",
      "Epoch 23/40\n",
      "15000/15000 [==============================] - 1s 63us/sample - loss: 0.2434 - accuracy: 0.9182 - val_loss: 0.3079 - val_accuracy: 0.8808\n",
      "Epoch 24/40\n",
      "15000/15000 [==============================] - 1s 67us/sample - loss: 0.2349 - accuracy: 0.9214 - val_loss: 0.3026 - val_accuracy: 0.8839\n",
      "Epoch 25/40\n",
      "15000/15000 [==============================] - 1s 71us/sample - loss: 0.2261 - accuracy: 0.9245 - val_loss: 0.2989 - val_accuracy: 0.8837\n",
      "Epoch 26/40\n",
      "15000/15000 [==============================] - 1s 72us/sample - loss: 0.2181 - accuracy: 0.9274 - val_loss: 0.2962 - val_accuracy: 0.8857\n",
      "Epoch 27/40\n",
      "15000/15000 [==============================] - 1s 70us/sample - loss: 0.2112 - accuracy: 0.9298 - val_loss: 0.2927 - val_accuracy: 0.8882\n",
      "Epoch 28/40\n",
      "15000/15000 [==============================] - 1s 63us/sample - loss: 0.2042 - accuracy: 0.9317 - val_loss: 0.2904 - val_accuracy: 0.8882\n",
      "Epoch 29/40\n",
      "15000/15000 [==============================] - 1s 62us/sample - loss: 0.1981 - accuracy: 0.9335 - val_loss: 0.2885 - val_accuracy: 0.8884\n",
      "Epoch 30/40\n",
      "15000/15000 [==============================] - 1s 63us/sample - loss: 0.1910 - accuracy: 0.9369 - val_loss: 0.2867 - val_accuracy: 0.8900\n",
      "Epoch 31/40\n",
      "15000/15000 [==============================] - 1s 62us/sample - loss: 0.1852 - accuracy: 0.9395 - val_loss: 0.2852 - val_accuracy: 0.8898\n",
      "Epoch 32/40\n",
      "15000/15000 [==============================] - 1s 62us/sample - loss: 0.1792 - accuracy: 0.9424 - val_loss: 0.2841 - val_accuracy: 0.8906\n",
      "Epoch 33/40\n",
      "15000/15000 [==============================] - 1s 63us/sample - loss: 0.1737 - accuracy: 0.9441 - val_loss: 0.2840 - val_accuracy: 0.8900\n",
      "Epoch 34/40\n",
      "15000/15000 [==============================] - 1s 62us/sample - loss: 0.1686 - accuracy: 0.9459 - val_loss: 0.2831 - val_accuracy: 0.8896\n",
      "Epoch 35/40\n",
      "15000/15000 [==============================] - 1s 63us/sample - loss: 0.1639 - accuracy: 0.9482 - val_loss: 0.2846 - val_accuracy: 0.8906\n",
      "Epoch 36/40\n",
      "15000/15000 [==============================] - 1s 63us/sample - loss: 0.1593 - accuracy: 0.9485 - val_loss: 0.2829 - val_accuracy: 0.8910\n",
      "Epoch 37/40\n",
      "15000/15000 [==============================] - 1s 67us/sample - loss: 0.1543 - accuracy: 0.9515 - val_loss: 0.2824 - val_accuracy: 0.8916\n",
      "Epoch 38/40\n",
      "15000/15000 [==============================] - 1s 62us/sample - loss: 0.1501 - accuracy: 0.9529 - val_loss: 0.2825 - val_accuracy: 0.8924\n",
      "Epoch 39/40\n",
      "15000/15000 [==============================] - 1s 62us/sample - loss: 0.1462 - accuracy: 0.9540 - val_loss: 0.2856 - val_accuracy: 0.8901\n",
      "Epoch 40/40\n",
      "15000/15000 [==============================] - 1s 62us/sample - loss: 0.1418 - accuracy: 0.9559 - val_loss: 0.2834 - val_accuracy: 0.8916\n"
     ]
    }
   ],
   "source": [
    "history = model.fit(partial_x_train,\n",
    "                    partial_y_train,\n",
    "                    epochs=40,\n",
    "                    batch_size=512,\n",
    "                    validation_data=(x_val, y_val),\n",
    "                    verbose=1)"
   ]
  },
  {
   "cell_type": "markdown",
   "metadata": {},
   "source": [
    "## Checking the Test Result"
   ]
  },
  {
   "cell_type": "code",
   "execution_count": 14,
   "metadata": {},
   "outputs": [
    {
     "name": "stdout",
     "output_type": "stream",
     "text": [
      "25000/25000 [==============================] - 1s 45us/sample - loss: 0.3036 - accuracy: 0.8803\n",
      "[0.3036228528213501, 0.88028]\n"
     ]
    }
   ],
   "source": [
    "results = model.evaluate(test_data, test_labels)\n",
    "\n",
    "print(results)"
   ]
  },
  {
   "cell_type": "markdown",
   "metadata": {},
   "source": [
    "## Plotting Training Curves"
   ]
  },
  {
   "cell_type": "code",
   "execution_count": 15,
   "metadata": {},
   "outputs": [
    {
     "data": {
      "text/plain": [
       "dict_keys(['loss', 'accuracy', 'val_loss', 'val_accuracy'])"
      ]
     },
     "execution_count": 15,
     "metadata": {},
     "output_type": "execute_result"
    }
   ],
   "source": [
    "history_dict = history.history\n",
    "history_dict.keys()"
   ]
  },
  {
   "cell_type": "code",
   "execution_count": 16,
   "metadata": {},
   "outputs": [
    {
     "data": {
      "image/png": "[encoded data removed]",
      "text/plain": [
       "<Figure size 864x648 with 1 Axes>"
      ]
     },
     "metadata": {
      "needs_background": "light"
     },
     "output_type": "display_data"
    },
    {
     "data": {
      "image/png": "[encoded data removed]",
      "text/plain": [
       "<Figure size 864x648 with 1 Axes>"
      ]
     },
     "metadata": {
      "needs_background": "light"
     },
     "output_type": "display_data"
    }
   ],
   "source": [
    "history_dict = history.history\n",
    "\n",
    "acc = history_dict['accuracy']\n",
    "val_acc = history_dict['val_accuracy']\n",
    "loss = history_dict['loss']\n",
    "val_loss = history_dict['val_loss']\n",
    "\n",
    "epochs = range(1, len(acc) + 1)\n",
    "\n",
    "plt.figure(figsize=(12,9))\n",
    "plt.plot(epochs, loss, 'bo', label='Training loss')\n",
    "plt.plot(epochs, val_loss, 'b', label='Validation loss')\n",
    "plt.title('Training and validation loss')\n",
    "plt.xlabel('Epochs')\n",
    "plt.ylabel('Loss')\n",
    "plt.legend()\n",
    "plt.show()\n",
    "\n",
    "plt.figure(figsize=(12,9))\n",
    "plt.plot(epochs, acc, 'bo', label='Training acc')\n",
    "plt.plot(epochs, val_acc, 'b', label='Validation acc')\n",
    "plt.title('Training and validation accuracy')\n",
    "plt.xlabel('Epochs')\n",
    "plt.ylabel('Accuracy')\n",
    "plt.legend(loc='lower right')\n",
    "plt.ylim((0.5,1))\n",
    "plt.show()"
   ]
  },
  {
   "cell_type": "markdown",
   "metadata": {},
   "source": [
    "## Retrieving the Learned Embeddings"
   ]
  },
  {
   "cell_type": "code",
   "execution_count": 17,
   "metadata": {},
   "outputs": [
    {
     "name": "stdout",
     "output_type": "stream",
     "text": [
      "(10000, 16)\n"
     ]
    }
   ],
   "source": [
    "## embedding layer의 weight = embedding matrix\n",
    "e = model.layers[0]\n",
    "weights = e.get_weights()[0]\n",
    "print(weights.shape) # shape: (vocab_size, embedding_dim)"
   ]
  },
  {
   "cell_type": "code",
   "execution_count": 18,
   "metadata": {},
   "outputs": [],
   "source": [
    "## visualization을 위한 tsv file write\n",
    "import io\n",
    "\n",
    "out_v = io.open('vecs.tsv', 'w', encoding='utf-8')\n",
    "out_m = io.open('meta.tsv', 'w', encoding='utf-8')\n",
    "for word_num in range(vocab_size):\n",
    "    word = reverse_word_index[word_num]\n",
    "    embeddings = weights[word_num]\n",
    "    out_m.write(word + \"\\n\")\n",
    "    out_v.write('\\t'.join([str(x) for x in embeddings]) + \"\\n\")\n",
    "out_v.close()\n",
    "out_m.close()"
   ]
  },
  {
   "cell_type": "code",
   "execution_count": 19,
   "metadata": {},
   "outputs": [],
   "source": [
    "## tsv file download\n",
    "try:\n",
    "    from google.colab import files\n",
    "except ImportError:\n",
    "    pass\n",
    "else:\n",
    "    files.download('vecs.tsv')\n",
    "    files.download('meta.tsv')"
   ]
  },
  {
   "cell_type": "markdown",
   "metadata": {},
   "source": [
    "## Visualize the embeddings\n",
    "\n",
    "word embedding 결과를 확인하기 위하여 아래 link에 접속하여 tsv file을 upload 합니다\n",
    "\n",
    "[Embedding Projector](http://projector.tensorflow.org/).\n",
    "\n",
    "* Click on \"Load data\".\n",
    "\n",
    "* Upload the two files we created above: ```vecs.tsv``` and ```meta.tsv```. T\n",
    "\n",
    "위와 같이 실행하면 embedding 결과를 볼 수 있습니다. \n",
    "오른쪽에서 단어를 찾으면 가장 가까운 단어들을 순서대로 보여줍니다.\n"
   ]
  },
  {
   "cell_type": "code",
   "execution_count": null,
   "metadata": {},
   "outputs": [],
   "source": []
  }
 ],
 "metadata": {
  "kernelspec": {
   "display_name": "Python 3",
   "language": "python",
   "name": "python3"
  },
  "language_info": {
   "codemirror_mode": {
    "name": "ipython",
    "version": 3
   },
   "file_extension": ".py",
   "mimetype": "text/x-python",
   "name": "python",
   "nbconvert_exporter": "python",
   "pygments_lexer": "ipython3",
   "version": "3.7.3"
  }
 },
 "nbformat": 4,
 "nbformat_minor": 2
}
