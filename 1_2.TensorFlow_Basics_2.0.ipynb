{
 "cells": [
  {
   "cell_type": "code",
   "execution_count": null,
   "metadata": {},
   "outputs": [],
   "source": [
    "!pip install tensorflow-gpu==2.0.0-beta1"
   ]
  },
  {
   "cell_type": "code",
   "execution_count": null,
   "metadata": {
    "colab": {},
    "colab_type": "code",
    "id": "C2saaSpvyzaA"
   },
   "outputs": [],
   "source": [
    "import numpy as np\n",
    "import tensorflow as tf"
   ]
  },
  {
   "cell_type": "code",
   "execution_count": null,
   "metadata": {
    "colab": {
     "base_uri": "https://localhost:8080/",
     "height": 37
    },
    "colab_type": "code",
    "executionInfo": {
     "elapsed": 2183,
     "status": "ok",
     "timestamp": 1552057757116,
     "user": {
      "displayName": "JinWon Lee",
      "photoUrl": "https://lh3.googleusercontent.com/-xi53GhRlwag/AAAAAAAAAAI/AAAAAAAAAAs/gpZpyx29RY4/s64/photo.jpg",
      "userId": "09449089977781029916"
     },
     "user_tz": -540
    },
    "id": "ZzJO-3IsyzaC",
    "outputId": "1d51f411-7930-48a8-8349-0eda5aca1ea9"
   },
   "outputs": [],
   "source": [
    "print (tf.__version__)"
   ]
  },
  {
   "cell_type": "code",
   "execution_count": null,
   "metadata": {
    "colab": {},
    "colab_type": "code",
    "id": "RNL6RJqDy2Nu"
   },
   "outputs": [],
   "source": [
    "#tf.enable_eager_execution()"
   ]
  },
  {
   "cell_type": "code",
   "execution_count": null,
   "metadata": {
    "colab": {
     "base_uri": "https://localhost:8080/",
     "height": 37
    },
    "colab_type": "code",
    "executionInfo": {
     "elapsed": 886,
     "status": "ok",
     "timestamp": 1552057814770,
     "user": {
      "displayName": "JinWon Lee",
      "photoUrl": "https://lh3.googleusercontent.com/-xi53GhRlwag/AAAAAAAAAAI/AAAAAAAAAAs/gpZpyx29RY4/s64/photo.jpg",
      "userId": "09449089977781029916"
     },
     "user_tz": -540
    },
    "id": "lL6BQmBF2rym",
    "outputId": "016a75fd-331c-42fe-a0ea-bf1c6da1a1b9"
   },
   "outputs": [],
   "source": [
    "tf.executing_eagerly()"
   ]
  },
  {
   "cell_type": "markdown",
   "metadata": {
    "colab_type": "text",
    "id": "Xow12zZgyzaE"
   },
   "source": [
    "## Defining Tensors"
   ]
  },
  {
   "cell_type": "code",
   "execution_count": null,
   "metadata": {
    "colab": {},
    "colab_type": "code",
    "id": "naQ5OGBuyzaE"
   },
   "outputs": [],
   "source": [
    "m1 = [[1.0, 2.0], \n",
    "      [3.0, 4.0]]\n",
    "m2 = np.array([[1.0, 2.0],\n",
    "              [3.0, 4.0]], dtype=np.float32)\n",
    "m3 = tf.constant([[1.0, 2.0],\n",
    "                 [3.0, 4.0]])"
   ]
  },
  {
   "cell_type": "code",
   "execution_count": null,
   "metadata": {
    "colab": {
     "base_uri": "https://localhost:8080/",
     "height": 75
    },
    "colab_type": "code",
    "executionInfo": {
     "elapsed": 2164,
     "status": "ok",
     "timestamp": 1552057757120,
     "user": {
      "displayName": "JinWon Lee",
      "photoUrl": "https://lh3.googleusercontent.com/-xi53GhRlwag/AAAAAAAAAAI/AAAAAAAAAAs/gpZpyx29RY4/s64/photo.jpg",
      "userId": "09449089977781029916"
     },
     "user_tz": -540
    },
    "id": "7TWZmsTLyzaG",
    "outputId": "bc3dfb05-bc65-435b-b50e-5ed129919201"
   },
   "outputs": [],
   "source": [
    "print(type(m1))\n",
    "print(type(m2))\n",
    "print(type(m3))"
   ]
  },
  {
   "cell_type": "code",
   "execution_count": null,
   "metadata": {
    "colab": {},
    "colab_type": "code",
    "id": "42nKive3yzaH"
   },
   "outputs": [],
   "source": [
    "t1 = tf.convert_to_tensor(m1, dtype=tf.float32)\n",
    "t2 = tf.convert_to_tensor(m2, dtype=tf.float32)\n",
    "t3 = tf.convert_to_tensor(m3, dtype=tf.float32)"
   ]
  },
  {
   "cell_type": "code",
   "execution_count": null,
   "metadata": {
    "colab": {
     "base_uri": "https://localhost:8080/",
     "height": 75
    },
    "colab_type": "code",
    "executionInfo": {
     "elapsed": 2157,
     "status": "ok",
     "timestamp": 1552057757123,
     "user": {
      "displayName": "JinWon Lee",
      "photoUrl": "https://lh3.googleusercontent.com/-xi53GhRlwag/AAAAAAAAAAI/AAAAAAAAAAs/gpZpyx29RY4/s64/photo.jpg",
      "userId": "09449089977781029916"
     },
     "user_tz": -540
    },
    "id": "o4WISlbbyzaJ",
    "outputId": "954ec0d4-136a-4c87-ec58-5ee4f8fea159"
   },
   "outputs": [],
   "source": [
    "print(type(t1))\n",
    "print(type(t2))\n",
    "print(type(t3))"
   ]
  },
  {
   "cell_type": "markdown",
   "metadata": {
    "colab_type": "text",
    "id": "hqzI1h7p3nbz"
   },
   "source": [
    "## Numpy Compatibility"
   ]
  },
  {
   "cell_type": "code",
   "execution_count": null,
   "metadata": {
    "colab": {
     "base_uri": "https://localhost:8080/",
     "height": 269
    },
    "colab_type": "code",
    "executionInfo": {
     "elapsed": 993,
     "status": "ok",
     "timestamp": 1552058080492,
     "user": {
      "displayName": "JinWon Lee",
      "photoUrl": "https://lh3.googleusercontent.com/-xi53GhRlwag/AAAAAAAAAAI/AAAAAAAAAAs/gpZpyx29RY4/s64/photo.jpg",
      "userId": "09449089977781029916"
     },
     "user_tz": -540
    },
    "id": "vt-JnM9U3mnc",
    "outputId": "9d843466-d54a-4eaa-e533-4a32ab5a5594"
   },
   "outputs": [],
   "source": [
    "ndarray = np.ones([3, 3])\n",
    "\n",
    "print(\"TensorFlow operations convert numpy arrays to Tensors automatically\")\n",
    "tensor = tf.multiply(ndarray, 42)\n",
    "print(tensor)\n",
    "\n",
    "\n",
    "print(\"And NumPy operations convert Tensors to numpy arrays automatically\")\n",
    "print(np.add(tensor, 1))\n",
    "\n",
    "print(\"The .numpy() method explicitly converts a Tensor to a numpy array\")\n",
    "print(tensor.numpy())"
   ]
  },
  {
   "cell_type": "markdown",
   "metadata": {
    "colab_type": "text",
    "id": "QsfRucolyzaP"
   },
   "source": [
    "## Constants"
   ]
  },
  {
   "cell_type": "code",
   "execution_count": null,
   "metadata": {
    "colab": {
     "base_uri": "https://localhost:8080/",
     "height": 37
    },
    "colab_type": "code",
    "executionInfo": {
     "elapsed": 825,
     "status": "ok",
     "timestamp": 1552057856471,
     "user": {
      "displayName": "JinWon Lee",
      "photoUrl": "https://lh3.googleusercontent.com/-xi53GhRlwag/AAAAAAAAAAI/AAAAAAAAAAs/gpZpyx29RY4/s64/photo.jpg",
      "userId": "09449089977781029916"
     },
     "user_tz": -540
    },
    "id": "Z4SlWvgUyzaP",
    "outputId": "926067e5-21f0-43b5-dfae-34f89f0569d2"
   },
   "outputs": [],
   "source": [
    "hello = tf.constant(\"Hello World!\")\n",
    "print(hello)"
   ]
  },
  {
   "cell_type": "code",
   "execution_count": null,
   "metadata": {
    "colab": {
     "base_uri": "https://localhost:8080/",
     "height": 56
    },
    "colab_type": "code",
    "executionInfo": {
     "elapsed": 883,
     "status": "ok",
     "timestamp": 1552057869110,
     "user": {
      "displayName": "JinWon Lee",
      "photoUrl": "https://lh3.googleusercontent.com/-xi53GhRlwag/AAAAAAAAAAI/AAAAAAAAAAs/gpZpyx29RY4/s64/photo.jpg",
      "userId": "09449089977781029916"
     },
     "user_tz": -540
    },
    "id": "d2CkpJfXyzaU",
    "outputId": "7d805d79-3ec8-428f-fd5b-1d1bad21b716"
   },
   "outputs": [],
   "source": [
    "a = tf.constant(1.5)\n",
    "b = tf.constant(2.5)\n",
    "print(a)\n",
    "print(b)"
   ]
  },
  {
   "cell_type": "markdown",
   "metadata": {
    "colab_type": "text",
    "id": "8p-9WIcjyzaX"
   },
   "source": [
    "## Operations\n"
   ]
  },
  {
   "cell_type": "code",
   "execution_count": null,
   "metadata": {
    "colab": {
     "base_uri": "https://localhost:8080/",
     "height": 37
    },
    "colab_type": "code",
    "executionInfo": {
     "elapsed": 889,
     "status": "ok",
     "timestamp": 1552057982692,
     "user": {
      "displayName": "JinWon Lee",
      "photoUrl": "https://lh3.googleusercontent.com/-xi53GhRlwag/AAAAAAAAAAI/AAAAAAAAAAs/gpZpyx29RY4/s64/photo.jpg",
      "userId": "09449089977781029916"
     },
     "user_tz": -540
    },
    "id": "1vSgQmhHyzaY",
    "outputId": "b828187d-147b-4853-d1b2-bd8d032a935b"
   },
   "outputs": [],
   "source": [
    "a_plus_b = tf.add(a, b)\n",
    "print(a_plus_b)"
   ]
  },
  {
   "cell_type": "code",
   "execution_count": null,
   "metadata": {
    "colab": {
     "base_uri": "https://localhost:8080/",
     "height": 37
    },
    "colab_type": "code",
    "executionInfo": {
     "elapsed": 889,
     "status": "ok",
     "timestamp": 1552057988392,
     "user": {
      "displayName": "JinWon Lee",
      "photoUrl": "https://lh3.googleusercontent.com/-xi53GhRlwag/AAAAAAAAAAI/AAAAAAAAAAs/gpZpyx29RY4/s64/photo.jpg",
      "userId": "09449089977781029916"
     },
     "user_tz": -540
    },
    "id": "7VnPHySzyzac",
    "outputId": "2333a1c8-bc80-4475-e94e-b45687893a7e"
   },
   "outputs": [],
   "source": [
    "a_mul_b = tf.multiply(a, b)\n",
    "print(a_mul_b)"
   ]
  },
  {
   "cell_type": "markdown",
   "metadata": {
    "colab_type": "text",
    "id": "mAq50wFvzkj_"
   },
   "source": [
    "## Variables"
   ]
  },
  {
   "cell_type": "code",
   "execution_count": null,
   "metadata": {
    "colab": {
     "base_uri": "https://localhost:8080/",
     "height": 133
    },
    "colab_type": "code",
    "executionInfo": {
     "elapsed": 803,
     "status": "ok",
     "timestamp": 1552057994140,
     "user": {
      "displayName": "JinWon Lee",
      "photoUrl": "https://lh3.googleusercontent.com/-xi53GhRlwag/AAAAAAAAAAI/AAAAAAAAAAs/gpZpyx29RY4/s64/photo.jpg",
      "userId": "09449089977781029916"
     },
     "user_tz": -540
    },
    "id": "QkvusA5vzkj9",
    "outputId": "84a23f72-f89e-4348-d85a-cc76bb104cf3"
   },
   "outputs": [],
   "source": [
    "weight = tf.Variable(tf.random_normal_initializer(stddev=0.1)([5, 2]))\n",
    "print(weight)"
   ]
  },
  {
   "cell_type": "markdown",
   "metadata": {
    "colab_type": "text",
    "id": "OysDqtn5yzax"
   },
   "source": [
    "## Shape, Rank, Axis"
   ]
  },
  {
   "cell_type": "code",
   "execution_count": null,
   "metadata": {
    "colab": {
     "base_uri": "https://localhost:8080/",
     "height": 37
    },
    "colab_type": "code",
    "executionInfo": {
     "elapsed": 2119,
     "status": "ok",
     "timestamp": 1552057757128,
     "user": {
      "displayName": "JinWon Lee",
      "photoUrl": "https://lh3.googleusercontent.com/-xi53GhRlwag/AAAAAAAAAAI/AAAAAAAAAAs/gpZpyx29RY4/s64/photo.jpg",
      "userId": "09449089977781029916"
     },
     "user_tz": -540
    },
    "id": "r93o1AqIyzaz",
    "outputId": "7ed7a661-ac83-4245-c10d-ee5982316cd6"
   },
   "outputs": [],
   "source": [
    "t = tf.constant([1,2,3,4])\n",
    "print(t.shape)"
   ]
  },
  {
   "cell_type": "code",
   "execution_count": null,
   "metadata": {
    "colab": {
     "base_uri": "https://localhost:8080/",
     "height": 37
    },
    "colab_type": "code",
    "executionInfo": {
     "elapsed": 2114,
     "status": "ok",
     "timestamp": 1552057757129,
     "user": {
      "displayName": "JinWon Lee",
      "photoUrl": "https://lh3.googleusercontent.com/-xi53GhRlwag/AAAAAAAAAAI/AAAAAAAAAAs/gpZpyx29RY4/s64/photo.jpg",
      "userId": "09449089977781029916"
     },
     "user_tz": -540
    },
    "id": "Lxjtpn4vyza0",
    "outputId": "78574497-bcc7-485f-9959-27524ab50bbe"
   },
   "outputs": [],
   "source": [
    "t = tf.constant([[1,2],\n",
    "                 [3,4]])\n",
    "print(t.shape)"
   ]
  },
  {
   "cell_type": "code",
   "execution_count": null,
   "metadata": {
    "colab": {
     "base_uri": "https://localhost:8080/",
     "height": 37
    },
    "colab_type": "code",
    "executionInfo": {
     "elapsed": 2107,
     "status": "ok",
     "timestamp": 1552057757129,
     "user": {
      "displayName": "JinWon Lee",
      "photoUrl": "https://lh3.googleusercontent.com/-xi53GhRlwag/AAAAAAAAAAI/AAAAAAAAAAs/gpZpyx29RY4/s64/photo.jpg",
      "userId": "09449089977781029916"
     },
     "user_tz": -540
    },
    "id": "otowBHVSyza2",
    "outputId": "f654fea0-b80d-4cd9-e93f-df1841b60198"
   },
   "outputs": [],
   "source": [
    "t = tf.constant([[[[1, 2, 3, 4], [5, 6, 7, 8], [9, 10, 11, 12]],[[13, 14, 15, 16], [17, 18, 19, 20], [21, 22, 23, 24]]]])\n",
    "print(t.shape)"
   ]
  },
  {
   "cell_type": "code",
   "execution_count": null,
   "metadata": {
    "colab": {
     "base_uri": "https://localhost:8080/",
     "height": 37
    },
    "colab_type": "code",
    "executionInfo": {
     "elapsed": 903,
     "status": "ok",
     "timestamp": 1552058576084,
     "user": {
      "displayName": "JinWon Lee",
      "photoUrl": "https://lh3.googleusercontent.com/-xi53GhRlwag/AAAAAAAAAAI/AAAAAAAAAAs/gpZpyx29RY4/s64/photo.jpg",
      "userId": "09449089977781029916"
     },
     "user_tz": -540
    },
    "id": "On8QUvBnyza3",
    "outputId": "74b40068-1f2e-4ff1-8a50-e47020bfb36b"
   },
   "outputs": [],
   "source": [
    "np.array(\n",
    "[\n",
    "    [\n",
    "        [\n",
    "            [1,2,3,4], \n",
    "            [5,6,7,8],\n",
    "            [9,10,11,12]\n",
    "        ],\n",
    "        [\n",
    "            [13,14,15,16],\n",
    "            [17,18,19,20], \n",
    "            [21,22,23,24]\n",
    "        ]\n",
    "    ]\n",
    "]\n",
    ").shape"
   ]
  },
  {
   "cell_type": "markdown",
   "metadata": {
    "colab_type": "text",
    "id": "zOtrgZlAyza4"
   },
   "source": [
    "## Matmul VS multiply"
   ]
  },
  {
   "cell_type": "code",
   "execution_count": null,
   "metadata": {
    "colab": {
     "base_uri": "https://localhost:8080/",
     "height": 37
    },
    "colab_type": "code",
    "executionInfo": {
     "elapsed": 2096,
     "status": "ok",
     "timestamp": 1552057757130,
     "user": {
      "displayName": "JinWon Lee",
      "photoUrl": "https://lh3.googleusercontent.com/-xi53GhRlwag/AAAAAAAAAAI/AAAAAAAAAAs/gpZpyx29RY4/s64/photo.jpg",
      "userId": "09449089977781029916"
     },
     "user_tz": -540
    },
    "id": "XL2qV6OZyza4",
    "outputId": "dab33b7f-1fec-452e-ba9d-fd2d5f47c2fe"
   },
   "outputs": [],
   "source": [
    "matrix1 = tf.constant([[3., 3.]])\n",
    "matrix2 = tf.constant([[2.],[2.]])\n",
    "print(tf.matmul(matrix1, matrix2))"
   ]
  },
  {
   "cell_type": "code",
   "execution_count": null,
   "metadata": {
    "colab": {
     "base_uri": "https://localhost:8080/",
     "height": 75
    },
    "colab_type": "code",
    "executionInfo": {
     "elapsed": 2092,
     "status": "ok",
     "timestamp": 1552057757132,
     "user": {
      "displayName": "JinWon Lee",
      "photoUrl": "https://lh3.googleusercontent.com/-xi53GhRlwag/AAAAAAAAAAI/AAAAAAAAAAs/gpZpyx29RY4/s64/photo.jpg",
      "userId": "09449089977781029916"
     },
     "user_tz": -540
    },
    "id": "NNa_9YF4yza5",
    "outputId": "bc995886-ffb7-4ea0-f28c-49abd3ce86c2"
   },
   "outputs": [],
   "source": [
    "print(matrix1*matrix2)"
   ]
  },
  {
   "cell_type": "markdown",
   "metadata": {
    "colab_type": "text",
    "id": "D1TgD4kxyza6"
   },
   "source": [
    "## Watch out broadcasting"
   ]
  },
  {
   "cell_type": "code",
   "execution_count": null,
   "metadata": {
    "colab": {
     "base_uri": "https://localhost:8080/",
     "height": 75
    },
    "colab_type": "code",
    "executionInfo": {
     "elapsed": 2087,
     "status": "ok",
     "timestamp": 1552057757132,
     "user": {
      "displayName": "JinWon Lee",
      "photoUrl": "https://lh3.googleusercontent.com/-xi53GhRlwag/AAAAAAAAAAI/AAAAAAAAAAs/gpZpyx29RY4/s64/photo.jpg",
      "userId": "09449089977781029916"
     },
     "user_tz": -540
    },
    "id": "7CGT7zkKyza7",
    "outputId": "92b5069d-d5d1-4f4b-a018-56e94c83277e"
   },
   "outputs": [],
   "source": [
    "matrix1 = tf.constant([[3., 3.]])\n",
    "matrix2 = tf.constant([[2.],[2.]])\n",
    "print(matrix1+matrix2)"
   ]
  },
  {
   "cell_type": "code",
   "execution_count": null,
   "metadata": {
    "colab": {
     "base_uri": "https://localhost:8080/",
     "height": 37
    },
    "colab_type": "code",
    "executionInfo": {
     "elapsed": 2081,
     "status": "ok",
     "timestamp": 1552057757133,
     "user": {
      "displayName": "JinWon Lee",
      "photoUrl": "https://lh3.googleusercontent.com/-xi53GhRlwag/AAAAAAAAAAI/AAAAAAAAAAs/gpZpyx29RY4/s64/photo.jpg",
      "userId": "09449089977781029916"
     },
     "user_tz": -540
    },
    "id": "VmwpGXDMyza8",
    "outputId": "b3e56854-750e-49c1-a59d-81988808227b"
   },
   "outputs": [],
   "source": [
    "matrix1 = tf.constant([[3., 3.]])\n",
    "matrix2 = tf.constant([[2., 2.]])\n",
    "print(matrix1+matrix2)"
   ]
  },
  {
   "cell_type": "markdown",
   "metadata": {
    "colab_type": "text",
    "id": "F8e0eqFoyza-"
   },
   "source": [
    "## Reduce Mean/Sum"
   ]
  },
  {
   "cell_type": "code",
   "execution_count": null,
   "metadata": {
    "colab": {
     "base_uri": "https://localhost:8080/",
     "height": 37
    },
    "colab_type": "code",
    "executionInfo": {
     "elapsed": 2075,
     "status": "ok",
     "timestamp": 1552057757134,
     "user": {
      "displayName": "JinWon Lee",
      "photoUrl": "https://lh3.googleusercontent.com/-xi53GhRlwag/AAAAAAAAAAI/AAAAAAAAAAs/gpZpyx29RY4/s64/photo.jpg",
      "userId": "09449089977781029916"
     },
     "user_tz": -540
    },
    "id": "F1HZ02bkyza-",
    "outputId": "74ea492c-9ef1-4a86-ec9e-61a90c7d3a0b"
   },
   "outputs": [],
   "source": [
    "print(tf.reduce_mean([1, 2], axis=0))"
   ]
  },
  {
   "cell_type": "code",
   "execution_count": null,
   "metadata": {
    "colab": {
     "base_uri": "https://localhost:8080/",
     "height": 37
    },
    "colab_type": "code",
    "executionInfo": {
     "elapsed": 2644,
     "status": "ok",
     "timestamp": 1552057757708,
     "user": {
      "displayName": "JinWon Lee",
      "photoUrl": "https://lh3.googleusercontent.com/-xi53GhRlwag/AAAAAAAAAAI/AAAAAAAAAAs/gpZpyx29RY4/s64/photo.jpg",
      "userId": "09449089977781029916"
     },
     "user_tz": -540
    },
    "id": "ZdR3JW0Uyza_",
    "outputId": "e450d48a-79af-4d2c-91d1-3bc8c888b9cb"
   },
   "outputs": [],
   "source": [
    "x = [[1., 2.],\n",
    "     [3., 4.]]\n",
    "\n",
    "\n",
    "print(tf.reduce_mean(x))"
   ]
  },
  {
   "cell_type": "code",
   "execution_count": null,
   "metadata": {
    "colab": {
     "base_uri": "https://localhost:8080/",
     "height": 37
    },
    "colab_type": "code",
    "executionInfo": {
     "elapsed": 2640,
     "status": "ok",
     "timestamp": 1552057757709,
     "user": {
      "displayName": "JinWon Lee",
      "photoUrl": "https://lh3.googleusercontent.com/-xi53GhRlwag/AAAAAAAAAAI/AAAAAAAAAAs/gpZpyx29RY4/s64/photo.jpg",
      "userId": "09449089977781029916"
     },
     "user_tz": -540
    },
    "id": "yvMP6OAkyzbA",
    "outputId": "c7655dd6-18eb-4de9-bbbe-a3abff15fa1a"
   },
   "outputs": [],
   "source": [
    "print(tf.reduce_mean(x, axis=0))"
   ]
  },
  {
   "cell_type": "code",
   "execution_count": null,
   "metadata": {
    "colab": {
     "base_uri": "https://localhost:8080/",
     "height": 37
    },
    "colab_type": "code",
    "executionInfo": {
     "elapsed": 2635,
     "status": "ok",
     "timestamp": 1552057757710,
     "user": {
      "displayName": "JinWon Lee",
      "photoUrl": "https://lh3.googleusercontent.com/-xi53GhRlwag/AAAAAAAAAAI/AAAAAAAAAAs/gpZpyx29RY4/s64/photo.jpg",
      "userId": "09449089977781029916"
     },
     "user_tz": -540
    },
    "id": "zCd3sdsKyzbD",
    "outputId": "f5581c67-d9fa-4430-b161-7b0f8f354660"
   },
   "outputs": [],
   "source": [
    "print(tf.reduce_mean(x, axis=1))"
   ]
  },
  {
   "cell_type": "code",
   "execution_count": null,
   "metadata": {
    "colab": {
     "base_uri": "https://localhost:8080/",
     "height": 37
    },
    "colab_type": "code",
    "executionInfo": {
     "elapsed": 2629,
     "status": "ok",
     "timestamp": 1552057757710,
     "user": {
      "displayName": "JinWon Lee",
      "photoUrl": "https://lh3.googleusercontent.com/-xi53GhRlwag/AAAAAAAAAAI/AAAAAAAAAAs/gpZpyx29RY4/s64/photo.jpg",
      "userId": "09449089977781029916"
     },
     "user_tz": -540
    },
    "id": "pq0LNKbRyzbE",
    "outputId": "9bdb9085-cc85-4372-9022-54635ee57a99"
   },
   "outputs": [],
   "source": [
    "print(tf.reduce_mean(x, axis=-1))"
   ]
  },
  {
   "cell_type": "code",
   "execution_count": null,
   "metadata": {
    "colab": {
     "base_uri": "https://localhost:8080/",
     "height": 37
    },
    "colab_type": "code",
    "executionInfo": {
     "elapsed": 2624,
     "status": "ok",
     "timestamp": 1552057757710,
     "user": {
      "displayName": "JinWon Lee",
      "photoUrl": "https://lh3.googleusercontent.com/-xi53GhRlwag/AAAAAAAAAAI/AAAAAAAAAAs/gpZpyx29RY4/s64/photo.jpg",
      "userId": "09449089977781029916"
     },
     "user_tz": -540
    },
    "id": "Qca6adBdyzbF",
    "outputId": "4c4dbffd-35e7-47ae-e183-a02365eae44f"
   },
   "outputs": [],
   "source": [
    "print(tf.reduce_sum(x))"
   ]
  },
  {
   "cell_type": "code",
   "execution_count": null,
   "metadata": {
    "colab": {
     "base_uri": "https://localhost:8080/",
     "height": 37
    },
    "colab_type": "code",
    "executionInfo": {
     "elapsed": 2619,
     "status": "ok",
     "timestamp": 1552057757711,
     "user": {
      "displayName": "JinWon Lee",
      "photoUrl": "https://lh3.googleusercontent.com/-xi53GhRlwag/AAAAAAAAAAI/AAAAAAAAAAs/gpZpyx29RY4/s64/photo.jpg",
      "userId": "09449089977781029916"
     },
     "user_tz": -540
    },
    "id": "qtsFOZQKyzbG",
    "outputId": "97aab709-26c7-4f80-be9c-30ff5b874e97"
   },
   "outputs": [],
   "source": [
    "print(tf.reduce_sum(x, axis=0))"
   ]
  },
  {
   "cell_type": "code",
   "execution_count": null,
   "metadata": {
    "colab": {
     "base_uri": "https://localhost:8080/",
     "height": 37
    },
    "colab_type": "code",
    "executionInfo": {
     "elapsed": 2614,
     "status": "ok",
     "timestamp": 1552057757712,
     "user": {
      "displayName": "JinWon Lee",
      "photoUrl": "https://lh3.googleusercontent.com/-xi53GhRlwag/AAAAAAAAAAI/AAAAAAAAAAs/gpZpyx29RY4/s64/photo.jpg",
      "userId": "09449089977781029916"
     },
     "user_tz": -540
    },
    "id": "kNSMO44NyzbH",
    "outputId": "2da2d63c-62b0-4034-d458-db7689394be6"
   },
   "outputs": [],
   "source": [
    "print(tf.reduce_sum(x, axis=-1))"
   ]
  },
  {
   "cell_type": "code",
   "execution_count": null,
   "metadata": {
    "colab": {
     "base_uri": "https://localhost:8080/",
     "height": 37
    },
    "colab_type": "code",
    "executionInfo": {
     "elapsed": 2609,
     "status": "ok",
     "timestamp": 1552057757712,
     "user": {
      "displayName": "JinWon Lee",
      "photoUrl": "https://lh3.googleusercontent.com/-xi53GhRlwag/AAAAAAAAAAI/AAAAAAAAAAs/gpZpyx29RY4/s64/photo.jpg",
      "userId": "09449089977781029916"
     },
     "user_tz": -540
    },
    "id": "59de3FjwyzbI",
    "outputId": "8544c07a-f98e-4e24-907c-1eedf283b839"
   },
   "outputs": [],
   "source": [
    "print(tf.reduce_mean(tf.reduce_sum(x, axis=-1)))"
   ]
  },
  {
   "cell_type": "markdown",
   "metadata": {
    "colab_type": "text",
    "id": "l8LI-8x0yzbJ"
   },
   "source": [
    "## Argmax with axis"
   ]
  },
  {
   "cell_type": "code",
   "execution_count": null,
   "metadata": {
    "colab": {
     "base_uri": "https://localhost:8080/",
     "height": 37
    },
    "colab_type": "code",
    "executionInfo": {
     "elapsed": 2605,
     "status": "ok",
     "timestamp": 1552057757713,
     "user": {
      "displayName": "JinWon Lee",
      "photoUrl": "https://lh3.googleusercontent.com/-xi53GhRlwag/AAAAAAAAAAI/AAAAAAAAAAs/gpZpyx29RY4/s64/photo.jpg",
      "userId": "09449089977781029916"
     },
     "user_tz": -540
    },
    "id": "KF64-x1zyzbJ",
    "outputId": "f1860725-f229-445d-c632-6d949efdc841"
   },
   "outputs": [],
   "source": [
    "x = [[0, 1, 2],\n",
    "     [2, 1, 0]]\n",
    "print(tf.argmax(x, axis=0))"
   ]
  },
  {
   "cell_type": "code",
   "execution_count": null,
   "metadata": {
    "colab": {
     "base_uri": "https://localhost:8080/",
     "height": 37
    },
    "colab_type": "code",
    "executionInfo": {
     "elapsed": 2599,
     "status": "ok",
     "timestamp": 1552057757713,
     "user": {
      "displayName": "JinWon Lee",
      "photoUrl": "https://lh3.googleusercontent.com/-xi53GhRlwag/AAAAAAAAAAI/AAAAAAAAAAs/gpZpyx29RY4/s64/photo.jpg",
      "userId": "09449089977781029916"
     },
     "user_tz": -540
    },
    "id": "QZafQadYyzbK",
    "outputId": "af20b827-2a6d-4e59-bc9e-a8c111fe8ebc"
   },
   "outputs": [],
   "source": [
    "print(tf.argmax(x, axis=1))"
   ]
  },
  {
   "cell_type": "code",
   "execution_count": null,
   "metadata": {
    "colab": {
     "base_uri": "https://localhost:8080/",
     "height": 37
    },
    "colab_type": "code",
    "executionInfo": {
     "elapsed": 2595,
     "status": "ok",
     "timestamp": 1552057757714,
     "user": {
      "displayName": "JinWon Lee",
      "photoUrl": "https://lh3.googleusercontent.com/-xi53GhRlwag/AAAAAAAAAAI/AAAAAAAAAAs/gpZpyx29RY4/s64/photo.jpg",
      "userId": "09449089977781029916"
     },
     "user_tz": -540
    },
    "id": "bTaJco9JyzbM",
    "outputId": "bb9a0aba-de5d-4400-9166-32f71ca7bf87"
   },
   "outputs": [],
   "source": [
    "print(tf.argmax(x, axis=-1))"
   ]
  },
  {
   "cell_type": "markdown",
   "metadata": {
    "colab_type": "text",
    "id": "MW2RulKgyzbN"
   },
   "source": [
    "## Reshape, squeeze, expand_dims"
   ]
  },
  {
   "cell_type": "code",
   "execution_count": null,
   "metadata": {
    "colab": {
     "base_uri": "https://localhost:8080/",
     "height": 37
    },
    "colab_type": "code",
    "executionInfo": {
     "elapsed": 2589,
     "status": "ok",
     "timestamp": 1552057757714,
     "user": {
      "displayName": "JinWon Lee",
      "photoUrl": "https://lh3.googleusercontent.com/-xi53GhRlwag/AAAAAAAAAAI/AAAAAAAAAAs/gpZpyx29RY4/s64/photo.jpg",
      "userId": "09449089977781029916"
     },
     "user_tz": -540
    },
    "id": "8xEzUyybyzbO",
    "outputId": "92fceac4-9e29-4b7a-e2a6-e87b42a1664f"
   },
   "outputs": [],
   "source": [
    "t = np.array([[[0, 1, 2], \n",
    "               [3, 4, 5]],\n",
    "              \n",
    "              [[6, 7, 8], \n",
    "               [9, 10, 11]]])\n",
    "print(t.shape)"
   ]
  },
  {
   "cell_type": "code",
   "execution_count": null,
   "metadata": {
    "colab": {
     "base_uri": "https://localhost:8080/",
     "height": 114
    },
    "colab_type": "code",
    "executionInfo": {
     "elapsed": 2586,
     "status": "ok",
     "timestamp": 1552057757715,
     "user": {
      "displayName": "JinWon Lee",
      "photoUrl": "https://lh3.googleusercontent.com/-xi53GhRlwag/AAAAAAAAAAI/AAAAAAAAAAs/gpZpyx29RY4/s64/photo.jpg",
      "userId": "09449089977781029916"
     },
     "user_tz": -540
    },
    "id": "N1ZdyomtyzbP",
    "outputId": "e11aacb0-6418-4199-c454-66f0742e1524"
   },
   "outputs": [],
   "source": [
    "print(tf.reshape(t, shape=[-1, 3]))"
   ]
  },
  {
   "cell_type": "code",
   "execution_count": null,
   "metadata": {
    "colab": {
     "base_uri": "https://localhost:8080/",
     "height": 172
    },
    "colab_type": "code",
    "executionInfo": {
     "elapsed": 2581,
     "status": "ok",
     "timestamp": 1552057757715,
     "user": {
      "displayName": "JinWon Lee",
      "photoUrl": "https://lh3.googleusercontent.com/-xi53GhRlwag/AAAAAAAAAAI/AAAAAAAAAAs/gpZpyx29RY4/s64/photo.jpg",
      "userId": "09449089977781029916"
     },
     "user_tz": -540
    },
    "id": "TRWz5m4TyzbP",
    "outputId": "00604258-6d34-4deb-a47e-cc8b05102388"
   },
   "outputs": [],
   "source": [
    "print(tf.reshape(t, shape=[-1, 1, 3]))"
   ]
  },
  {
   "cell_type": "code",
   "execution_count": null,
   "metadata": {
    "colab": {
     "base_uri": "https://localhost:8080/",
     "height": 37
    },
    "colab_type": "code",
    "executionInfo": {
     "elapsed": 2573,
     "status": "ok",
     "timestamp": 1552057757715,
     "user": {
      "displayName": "JinWon Lee",
      "photoUrl": "https://lh3.googleusercontent.com/-xi53GhRlwag/AAAAAAAAAAI/AAAAAAAAAAs/gpZpyx29RY4/s64/photo.jpg",
      "userId": "09449089977781029916"
     },
     "user_tz": -540
    },
    "id": "pJTPO1oHyzbR",
    "outputId": "40dfb352-f13e-469b-c40a-eecead2f3b41"
   },
   "outputs": [],
   "source": [
    "print(tf.squeeze([[0], [1], [2]]))"
   ]
  },
  {
   "cell_type": "code",
   "execution_count": null,
   "metadata": {
    "colab": {
     "base_uri": "https://localhost:8080/",
     "height": 95
    },
    "colab_type": "code",
    "executionInfo": {
     "elapsed": 2569,
     "status": "ok",
     "timestamp": 1552057757716,
     "user": {
      "displayName": "JinWon Lee",
      "photoUrl": "https://lh3.googleusercontent.com/-xi53GhRlwag/AAAAAAAAAAI/AAAAAAAAAAs/gpZpyx29RY4/s64/photo.jpg",
      "userId": "09449089977781029916"
     },
     "user_tz": -540
    },
    "id": "Ol019Po7yzbS",
    "outputId": "86080b4a-6e63-4cbc-a7b0-143d89bf82ff"
   },
   "outputs": [],
   "source": [
    "print(tf.expand_dims([0, 1, 2], 1))"
   ]
  },
  {
   "cell_type": "markdown",
   "metadata": {
    "colab_type": "text",
    "id": "Ne-bXvG4yzbT"
   },
   "source": [
    "## One hot"
   ]
  },
  {
   "cell_type": "code",
   "execution_count": null,
   "metadata": {
    "colab": {
     "base_uri": "https://localhost:8080/",
     "height": 114
    },
    "colab_type": "code",
    "executionInfo": {
     "elapsed": 2564,
     "status": "ok",
     "timestamp": 1552057757716,
     "user": {
      "displayName": "JinWon Lee",
      "photoUrl": "https://lh3.googleusercontent.com/-xi53GhRlwag/AAAAAAAAAAI/AAAAAAAAAAs/gpZpyx29RY4/s64/photo.jpg",
      "userId": "09449089977781029916"
     },
     "user_tz": -540
    },
    "id": "6VOrQRebyzbT",
    "outputId": "3adb907a-e453-4b4e-edfa-fa238d5c0935"
   },
   "outputs": [],
   "source": [
    "print(tf.one_hot([0, 1, 2, 0], depth=3))"
   ]
  },
  {
   "cell_type": "markdown",
   "metadata": {
    "colab_type": "text",
    "id": "ImzDui2yyzbV"
   },
   "source": [
    "## Type Casting"
   ]
  },
  {
   "cell_type": "code",
   "execution_count": null,
   "metadata": {
    "colab": {
     "base_uri": "https://localhost:8080/",
     "height": 37
    },
    "colab_type": "code",
    "executionInfo": {
     "elapsed": 2558,
     "status": "ok",
     "timestamp": 1552057757717,
     "user": {
      "displayName": "JinWon Lee",
      "photoUrl": "https://lh3.googleusercontent.com/-xi53GhRlwag/AAAAAAAAAAI/AAAAAAAAAAs/gpZpyx29RY4/s64/photo.jpg",
      "userId": "09449089977781029916"
     },
     "user_tz": -540
    },
    "id": "p5WngMYsyzbW",
    "outputId": "3c155e7f-bd13-4a4f-9321-62dafb31af8d"
   },
   "outputs": [],
   "source": [
    "print(tf.cast([1.8, 2.2, 3.3, 4.9], tf.int32))"
   ]
  },
  {
   "cell_type": "code",
   "execution_count": null,
   "metadata": {
    "colab": {
     "base_uri": "https://localhost:8080/",
     "height": 37
    },
    "colab_type": "code",
    "executionInfo": {
     "elapsed": 2554,
     "status": "ok",
     "timestamp": 1552057757717,
     "user": {
      "displayName": "JinWon Lee",
      "photoUrl": "https://lh3.googleusercontent.com/-xi53GhRlwag/AAAAAAAAAAI/AAAAAAAAAAs/gpZpyx29RY4/s64/photo.jpg",
      "userId": "09449089977781029916"
     },
     "user_tz": -540
    },
    "id": "QWEt7Y-tyzbX",
    "outputId": "fc452536-b6d3-40f4-f4b1-718c95100247"
   },
   "outputs": [],
   "source": [
    "print(tf.cast([True, False, 1 == 1, 0 == 1], tf.int32))"
   ]
  },
  {
   "cell_type": "markdown",
   "metadata": {
    "colab_type": "text",
    "id": "5EQcz9OM34VC"
   },
   "source": [
    "## Create a Dataset"
   ]
  },
  {
   "cell_type": "code",
   "execution_count": null,
   "metadata": {
    "colab": {
     "base_uri": "https://localhost:8080/",
     "height": 37
    },
    "colab_type": "code",
    "executionInfo": {
     "elapsed": 852,
     "status": "ok",
     "timestamp": 1552058495910,
     "user": {
      "displayName": "JinWon Lee",
      "photoUrl": "https://lh3.googleusercontent.com/-xi53GhRlwag/AAAAAAAAAAI/AAAAAAAAAAs/gpZpyx29RY4/s64/photo.jpg",
      "userId": "09449089977781029916"
     },
     "user_tz": -540
    },
    "id": "4LhNqxUj34wZ",
    "outputId": "7b0bb790-6fea-4660-b18c-0324414dbf96"
   },
   "outputs": [],
   "source": [
    "a = np.arange(10)\n",
    "print(a)\n",
    "ds_tensors = tf.data.Dataset.from_tensor_slices(a)"
   ]
  },
  {
   "cell_type": "markdown",
   "metadata": {
    "colab_type": "text",
    "id": "TIAhx5Qa4A_S"
   },
   "source": [
    "## Apply Transformations"
   ]
  },
  {
   "cell_type": "code",
   "execution_count": null,
   "metadata": {
    "colab": {},
    "colab_type": "code",
    "id": "DsB2bHVb34_b"
   },
   "outputs": [],
   "source": [
    "ds_tensors = ds_tensors.map(tf.square).shuffle(20).batch(2)"
   ]
  },
  {
   "cell_type": "markdown",
   "metadata": {
    "colab_type": "text",
    "id": "gt4rGl-d4Uby"
   },
   "source": [
    "## Iterate"
   ]
  },
  {
   "cell_type": "code",
   "execution_count": null,
   "metadata": {
    "colab": {
     "base_uri": "https://localhost:8080/",
     "height": 327
    },
    "colab_type": "code",
    "executionInfo": {
     "elapsed": 806,
     "status": "ok",
     "timestamp": 1552058497641,
     "user": {
      "displayName": "JinWon Lee",
      "photoUrl": "https://lh3.googleusercontent.com/-xi53GhRlwag/AAAAAAAAAAI/AAAAAAAAAAs/gpZpyx29RY4/s64/photo.jpg",
      "userId": "09449089977781029916"
     },
     "user_tz": -540
    },
    "id": "yPmUEpoG4Tf8",
    "outputId": "37566696-348a-4fe1-8f85-4fc8013e45d0"
   },
   "outputs": [],
   "source": [
    "print('Elements of ds_tensors:')\n",
    "for _ in range(3):\n",
    "  for x in ds_tensors:\n",
    "    print(x)"
   ]
  },
  {
   "cell_type": "code",
   "execution_count": null,
   "metadata": {
    "colab": {},
    "colab_type": "code",
    "id": "Psv7hnHz4YUn"
   },
   "outputs": [],
   "source": []
  }
 ],
 "metadata": {
  "colab": {
   "collapsed_sections": [],
   "name": "2_1.Tensorflow_Basic.ipynb",
   "provenance": [],
   "version": "0.3.2"
  },
  "kernelspec": {
   "display_name": "Python 3",
   "language": "python",
   "name": "python3"
  },
  "language_info": {
   "codemirror_mode": {
    "name": "ipython",
    "version": 3
   },
   "file_extension": ".py",
   "mimetype": "text/x-python",
   "name": "python",
   "nbconvert_exporter": "python",
   "pygments_lexer": "ipython3",
   "version": "3.5.6"
  }
 },
 "nbformat": 4,
 "nbformat_minor": 1
}
