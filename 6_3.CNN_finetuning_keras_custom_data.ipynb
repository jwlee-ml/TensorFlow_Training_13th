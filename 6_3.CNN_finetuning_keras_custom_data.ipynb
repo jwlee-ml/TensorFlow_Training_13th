{
 "cells": [
  {
   "cell_type": "code",
   "execution_count": null,
   "metadata": {
    "colab": {
     "base_uri": "https://localhost:8080/",
     "height": 36
    },
    "colab_type": "code",
    "id": "Ei0B55eNuzRf",
    "outputId": "fde2d5ea-88df-43bc-9268-13c1e3df6df5"
   },
   "outputs": [],
   "source": [
    "import tensorflow as tf\n",
    "import numpy as np\n",
    "from tensorflow import keras\n",
    "import os\n",
    "import matplotlib.pyplot as plt\n",
    "print(tf.__version__)"
   ]
  },
  {
   "cell_type": "code",
   "execution_count": null,
   "metadata": {
    "colab": {},
    "colab_type": "code",
    "id": "iDWmPmd2uzRi"
   },
   "outputs": [],
   "source": [
    "from tensorflow.keras.layers import Conv2D, ReLU, MaxPooling2D, Dense, BatchNormalization, Softmax, GlobalAveragePooling2D"
   ]
  },
  {
   "cell_type": "code",
   "execution_count": null,
   "metadata": {
    "colab": {},
    "colab_type": "code",
    "id": "PGQl-VjeuzRk"
   },
   "outputs": [],
   "source": [
    "from tensorflow.keras import models\n",
    "from tensorflow.keras import optimizers\n",
    "from tensorflow.keras.preprocessing import image\n",
    "from tensorflow.keras.preprocessing.image import ImageDataGenerator\n",
    "from tensorflow.keras.applications.mobilenet import MobileNet, preprocess_input"
   ]
  },
  {
   "cell_type": "code",
   "execution_count": null,
   "metadata": {
    "colab": {},
    "colab_type": "code",
    "id": "KiV6jcpauzRm"
   },
   "outputs": [],
   "source": [
    "learning_rate = 0.0002\n",
    "img_size = 224\n",
    "batch_size = 16"
   ]
  },
  {
   "cell_type": "code",
   "execution_count": null,
   "metadata": {
    "colab": {
     "base_uri": "https://localhost:8080/",
     "height": 36
    },
    "colab_type": "code",
    "id": "3zkgx7A6u-Jq",
    "outputId": "27b3cf63-dc95-4440-c131-97e21a020edc"
   },
   "outputs": [],
   "source": [
    "cd '/content/gdrive/My Drive/TensorFlow_Training_13th'"
   ]
  },
  {
   "cell_type": "code",
   "execution_count": null,
   "metadata": {
    "colab": {
     "base_uri": "https://localhost:8080/",
     "height": 74
    },
    "colab_type": "code",
    "id": "RCadaZgnuzRo",
    "outputId": "1cf6b325-6757-4537-a9a5-e400b58def59"
   },
   "outputs": [],
   "source": [
    "cur_dir = os.getcwd()\n",
    "\n",
    "train_dir = os.path.join(cur_dir, 'simpsons_train')\n",
    "val_dir = os.path.join(cur_dir, 'simpsons_val')\n",
    "\n",
    "n_class = len(os.listdir(train_dir))\n",
    "print(\"This Dataset has {} classes\".format(n_class))\n",
    "\n",
    "n_train = 0\n",
    "n_val = 0\n",
    "for _, _, files in os.walk(train_dir):\n",
    "    if files:\n",
    "        n_train += len(files)\n",
    "for _, _, files in os.walk(val_dir):\n",
    "    if files:\n",
    "        n_val += len(files)\n",
    "        \n",
    "print(\"Train Dataset has {} images\".format(n_train))\n",
    "print(\"Validation Dataset has {} images\".format(n_val))"
   ]
  },
  {
   "cell_type": "code",
   "execution_count": null,
   "metadata": {
    "colab": {},
    "colab_type": "code",
    "id": "9q8M0-SkuzRs"
   },
   "outputs": [],
   "source": [
    "datagen = ImageDataGenerator(\n",
    "      rotation_range=10,\n",
    "      width_shift_range=0.2,\n",
    "      height_shift_range=0.2,\n",
    "      shear_range=0.2,\n",
    "      zoom_range=0.2,\n",
    "      horizontal_flip=True,\n",
    "      fill_mode='nearest')"
   ]
  },
  {
   "cell_type": "code",
   "execution_count": null,
   "metadata": {
    "colab": {},
    "colab_type": "code",
    "id": "Sz1cjYK8uzRu"
   },
   "outputs": [],
   "source": [
    "sample_dir = os.listdir(train_dir)[0]\n",
    "fnames = sorted([os.path.join(train_dir, sample_dir, fname) for fname in os.listdir(\n",
    "                                                            os.path.join(train_dir, sample_dir))])"
   ]
  },
  {
   "cell_type": "code",
   "execution_count": null,
   "metadata": {
    "colab": {},
    "colab_type": "code",
    "id": "PLcKOwYpuzRv"
   },
   "outputs": [],
   "source": [
    "num_org_imgs = 5\n",
    "num_iter = 20\n",
    "img_paths = fnames[:num_org_imgs]"
   ]
  },
  {
   "cell_type": "code",
   "execution_count": null,
   "metadata": {
    "colab": {
     "base_uri": "https://localhost:8080/",
     "height": 36
    },
    "colab_type": "code",
    "id": "CWkZ8XA0uzRx",
    "outputId": "2767a7f1-219e-40f8-dfb8-d5fc1b3edc14"
   },
   "outputs": [],
   "source": [
    "img_list = []\n",
    "for img_path in img_paths:\n",
    "    img = image.load_img(img_path, target_size=(img_size, img_size))\n",
    "    x = image.img_to_array(img)\n",
    "    img_list.append(x)\n",
    "\n",
    "img_list = np.array(img_list)\n",
    "img_list.shape\n"
   ]
  },
  {
   "cell_type": "code",
   "execution_count": null,
   "metadata": {
    "colab": {
     "base_uri": "https://localhost:8080/",
     "height": 921
    },
    "colab_type": "code",
    "id": "ZbZ_najMuzR0",
    "outputId": "18e34f99-ccdf-4bed-f2a9-b4dacd2530c5",
    "scrolled": false
   },
   "outputs": [],
   "source": [
    "row = num_iter // num_org_imgs\n",
    "col = num_org_imgs\n",
    "i = 0\n",
    "plt.figure(figsize=(col*4, row*4))\n",
    "for batch in datagen.flow(img_list, batch_size=1):\n",
    "    plt.subplot(row, col, i+1)\n",
    "    imgplot = plt.imshow(image.array_to_img(batch[0]))\n",
    "    i += 1\n",
    "    if i == num_iter:\n",
    "        break\n",
    "\n",
    "plt.show()"
   ]
  },
  {
   "cell_type": "code",
   "execution_count": null,
   "metadata": {
    "colab": {
     "base_uri": "https://localhost:8080/",
     "height": 1000
    },
    "colab_type": "code",
    "id": "KUiZ61gbuzR3",
    "outputId": "be04f133-f457-4fc1-c24c-4f75adde176d",
    "scrolled": false
   },
   "outputs": [],
   "source": [
    "conv_base = MobileNet(weights='imagenet',\n",
    "                       include_top=False,\n",
    "                       input_shape=(img_size, img_size, 3))\n",
    "conv_base.summary()"
   ]
  },
  {
   "cell_type": "code",
   "execution_count": null,
   "metadata": {
    "colab": {
     "base_uri": "https://localhost:8080/",
     "height": 473
    },
    "colab_type": "code",
    "id": "Dw48il6juzR6",
    "outputId": "8cc46863-1467-4d1e-c795-55751b93e2a7"
   },
   "outputs": [],
   "source": [
    "model = models.Sequential()\n",
    "model.add(conv_base)\n",
    "model.add(GlobalAveragePooling2D())\n",
    "model.add(Dense(256))\n",
    "model.add(BatchNormalization())\n",
    "model.add(ReLU())\n",
    "model.add(Dense(n_class))\n",
    "model.add(BatchNormalization())\n",
    "model.add(Softmax())\n",
    "\n",
    "model.summary()"
   ]
  },
  {
   "cell_type": "code",
   "execution_count": null,
   "metadata": {
    "colab": {},
    "colab_type": "code",
    "id": "9Sk7AWKJuzR8"
   },
   "outputs": [],
   "source": [
    "lr_schedule = keras.optimizers.schedules.ExponentialDecay(initial_learning_rate=learning_rate,\n",
    "                                                          decay_steps=n_train//batch_size*5,\n",
    "                                                          decay_rate=0.5,\n",
    "                                                          staircase=True)\n",
    "model.compile(optimizers.Adam(lr_schedule), loss='categorical_crossentropy', metrics=['accuracy'])"
   ]
  },
  {
   "cell_type": "code",
   "execution_count": null,
   "metadata": {
    "colab": {},
    "colab_type": "code",
    "id": "GgOQ2URVuzR-"
   },
   "outputs": [],
   "source": [
    "train_datagen = ImageDataGenerator(preprocessing_function=preprocess_input,\n",
    "                                   rotation_range=10,\n",
    "                                   width_shift_range=0.2,\n",
    "                                   height_shift_range=0.2,\n",
    "                                   shear_range=0.2,\n",
    "                                   zoom_range=0.2,\n",
    "                                   horizontal_flip=True,\n",
    "                                   fill_mode='nearest')\n",
    "\n",
    "val_datagen = ImageDataGenerator(preprocessing_function=preprocess_input)"
   ]
  },
  {
   "cell_type": "code",
   "execution_count": null,
   "metadata": {
    "colab": {
     "base_uri": "https://localhost:8080/",
     "height": 55
    },
    "colab_type": "code",
    "id": "64IJZPsIuzSC",
    "outputId": "2b98113d-d658-44c4-92b5-0f21c93ee1bd"
   },
   "outputs": [],
   "source": [
    "train_generator = train_datagen.flow_from_directory(train_dir,\n",
    "                                                    target_size=(img_size, img_size),\n",
    "                                                    batch_size=batch_size,\n",
    "                                                    class_mode='categorical')\n",
    "val_generator = val_datagen.flow_from_directory(val_dir,\n",
    "                                               target_size=(img_size, img_size),\n",
    "                                               batch_size=batch_size,\n",
    "                                               class_mode='categorical')"
   ]
  },
  {
   "cell_type": "code",
   "execution_count": null,
   "metadata": {
    "colab": {
     "base_uri": "https://localhost:8080/",
     "height": 507
    },
    "colab_type": "code",
    "id": "of_gEkjFuzSF",
    "outputId": "a2c1af94-3267-4456-8ba3-bec54a5f77dd"
   },
   "outputs": [],
   "source": [
    "history = model.fit_generator(train_generator,\n",
    "                             steps_per_epoch=n_train//batch_size,\n",
    "                             epochs=10,\n",
    "                             validation_data=val_generator,\n",
    "                             validation_steps=n_val//batch_size)"
   ]
  },
  {
   "cell_type": "code",
   "execution_count": null,
   "metadata": {
    "colab": {},
    "colab_type": "code",
    "id": "I88senOYuzSH"
   },
   "outputs": [],
   "source": [
    "acc = history.history['accuracy']\n",
    "val_acc = history.history['val_accuracy']\n",
    "loss = history.history['loss']\n",
    "val_loss = history.history['val_loss']\n",
    "\n",
    "epochs = range(len(acc))\n",
    "\n",
    "plt.plot(epochs, acc, 'r', label='Training acc')\n",
    "plt.plot(epochs, val_acc, 'b', label='Validation acc')\n",
    "plt.title('Training and validation accuracy')\n",
    "plt.legend()\n",
    "\n",
    "plt.figure()\n",
    "\n",
    "plt.plot(epochs, loss, 'r', label='Training loss')\n",
    "plt.plot(epochs, val_loss, 'b', label='Validation loss')\n",
    "plt.title('Training and validation loss')\n",
    "plt.legend()\n",
    "\n",
    "plt.show()"
   ]
  },
  {
   "cell_type": "code",
   "execution_count": null,
   "metadata": {
    "colab": {},
    "colab_type": "code",
    "id": "KWb9zePIuzSK"
   },
   "outputs": [],
   "source": []
  }
 ],
 "metadata": {
  "accelerator": "GPU",
  "colab": {
   "name": "simple_CNN_keras-Copy2.ipynb",
   "provenance": [],
   "version": "0.3.2"
  },
  "kernelspec": {
   "display_name": "Python 3",
   "language": "python",
   "name": "python3"
  },
  "language_info": {
   "codemirror_mode": {
    "name": "ipython",
    "version": 3
   },
   "file_extension": ".py",
   "mimetype": "text/x-python",
   "name": "python",
   "nbconvert_exporter": "python",
   "pygments_lexer": "ipython3",
   "version": "3.5.6"
  }
 },
 "nbformat": 4,
 "nbformat_minor": 1
}
