{
 "cells": [
  {
   "cell_type": "markdown",
   "metadata": {
    "colab_type": "text",
    "id": "gFac9rpo7YkJ"
   },
   "source": [
    "## Python Basics"
   ]
  },
  {
   "cell_type": "code",
   "execution_count": null,
   "metadata": {
    "colab": {
     "base_uri": "https://localhost:8080/",
     "height": 37
    },
    "colab_type": "code",
    "executionInfo": {
     "elapsed": 966,
     "status": "ok",
     "timestamp": 1552059070878,
     "user": {
      "displayName": "JinWon Lee",
      "photoUrl": "https://lh3.googleusercontent.com/-xi53GhRlwag/AAAAAAAAAAI/AAAAAAAAAAs/gpZpyx29RY4/s64/photo.jpg",
      "userId": "09449089977781029916"
     },
     "user_tz": -540
    },
    "id": "_xlvu80h7cCZ",
    "outputId": "e96ce00a-628f-4720-b6aa-5dca7211a194"
   },
   "outputs": [],
   "source": [
    "print(\"Hello World\")"
   ]
  },
  {
   "cell_type": "markdown",
   "metadata": {
    "colab_type": "text",
    "id": "pf5-LTZ-7kWx"
   },
   "source": [
    "### Functions, Conditionals, and Iteration"
   ]
  },
  {
   "cell_type": "code",
   "execution_count": null,
   "metadata": {
    "colab": {
     "base_uri": "https://localhost:8080/",
     "height": 249
    },
    "colab_type": "code",
    "executionInfo": {
     "elapsed": 919,
     "status": "ok",
     "timestamp": 1552059120214,
     "user": {
      "displayName": "JinWon Lee",
      "photoUrl": "https://lh3.googleusercontent.com/-xi53GhRlwag/AAAAAAAAAAI/AAAAAAAAAAs/gpZpyx29RY4/s64/photo.jpg",
      "userId": "09449089977781029916"
     },
     "user_tz": -540
    },
    "id": "Fr8vQgaV7niC",
    "outputId": "d24e0dd8-ca42-4b68-8c16-87674bae7127"
   },
   "outputs": [],
   "source": [
    "def HelloWorldXY(x, y):\n",
    "  if (x < 10):\n",
    "    print(\"Hello World, x was < 10\")\n",
    "  elif (x < 20):\n",
    "    print(\"Hello World, x was >= 10 but < 20\")\n",
    "  else:\n",
    "    print(\"Hello World, x was >= 20\")\n",
    "  return x + y\n",
    "\n",
    "for i in range(8, 25, 5):  # i=8, 13, 18, 23 (start, stop, step)\n",
    "  print(\"--- Now running with i: {}\".format(i))\n",
    "  r = HelloWorldXY(i,i)\n",
    "  print(\"Result from HelloWorld: {}\".format(r))"
   ]
  },
  {
   "cell_type": "code",
   "execution_count": null,
   "metadata": {
    "colab": {
     "base_uri": "https://localhost:8080/",
     "height": 56
    },
    "colab_type": "code",
    "executionInfo": {
     "elapsed": 727,
     "status": "ok",
     "timestamp": 1552059143395,
     "user": {
      "displayName": "JinWon Lee",
      "photoUrl": "https://lh3.googleusercontent.com/-xi53GhRlwag/AAAAAAAAAAI/AAAAAAAAAAs/gpZpyx29RY4/s64/photo.jpg",
      "userId": "09449089977781029916"
     },
     "user_tz": -540
    },
    "id": "bFBxnxHP7vqV",
    "outputId": "88da096a-822c-4ec7-8a5c-6ba2c2ff9c52"
   },
   "outputs": [],
   "source": [
    "print(HelloWorldXY(1,2))"
   ]
  },
  {
   "cell_type": "code",
   "execution_count": null,
   "metadata": {
    "colab": {
     "base_uri": "https://localhost:8080/",
     "height": 191
    },
    "colab_type": "code",
    "executionInfo": {
     "elapsed": 966,
     "status": "ok",
     "timestamp": 1552059182472,
     "user": {
      "displayName": "JinWon Lee",
      "photoUrl": "https://lh3.googleusercontent.com/-xi53GhRlwag/AAAAAAAAAAI/AAAAAAAAAAs/gpZpyx29RY4/s64/photo.jpg",
      "userId": "09449089977781029916"
     },
     "user_tz": -540
    },
    "id": "PuYgxkfx73g5",
    "outputId": "38eecb6b-ad5e-43ab-fcf9-9e3be419c676"
   },
   "outputs": [],
   "source": [
    "print(\"Iterate over the items. `range(2)` is like a list [0,1].\")\n",
    "for i in range(2):\n",
    "  print(i)\n",
    "\n",
    "print(\"Iterate over an actual list.\")\n",
    "for i in [0,1]:\n",
    "  print(i)\n",
    "\n",
    "print(\"While works\")\n",
    "i = 0\n",
    "while i < 2:\n",
    "  print(i)\n",
    "  i += 1"
   ]
  },
  {
   "cell_type": "code",
   "execution_count": null,
   "metadata": {
    "colab": {
     "base_uri": "https://localhost:8080/",
     "height": 56
    },
    "colab_type": "code",
    "executionInfo": {
     "elapsed": 938,
     "status": "ok",
     "timestamp": 1552059188938,
     "user": {
      "displayName": "JinWon Lee",
      "photoUrl": "https://lh3.googleusercontent.com/-xi53GhRlwag/AAAAAAAAAAI/AAAAAAAAAAs/gpZpyx29RY4/s64/photo.jpg",
      "userId": "09449089977781029916"
     },
     "user_tz": -540
    },
    "id": "e1aU7enR73qS",
    "outputId": "7c7b4ddc-30f1-4515-c995-05297c853b72"
   },
   "outputs": [],
   "source": [
    "print(\"Python supports standard key words like continue and break\")\n",
    "while True:\n",
    "  print(\"Entered while\")\n",
    "  break"
   ]
  },
  {
   "cell_type": "markdown",
   "metadata": {
    "colab_type": "text",
    "id": "cfhU8nma8KQL"
   },
   "source": [
    "## Numpy and lists\n",
    "Python has lists built into the language.\n",
    "However, we will use a library called numpy for this.\n",
    "Numpy gives you lot's of support functions that are useful when doing Machine Learning.\n",
    "\n",
    "Here, you will also see an import statement. This statement makes the entire numpy package available and we can access those symbols using the abbreviated 'np' syntax."
   ]
  },
  {
   "cell_type": "code",
   "execution_count": null,
   "metadata": {
    "colab": {
     "base_uri": "https://localhost:8080/",
     "height": 211
    },
    "colab_type": "code",
    "executionInfo": {
     "elapsed": 852,
     "status": "ok",
     "timestamp": 1552059262824,
     "user": {
      "displayName": "JinWon Lee",
      "photoUrl": "https://lh3.googleusercontent.com/-xi53GhRlwag/AAAAAAAAAAI/AAAAAAAAAAs/gpZpyx29RY4/s64/photo.jpg",
      "userId": "09449089977781029916"
     },
     "user_tz": -540
    },
    "id": "eRs3V8Je8MHC",
    "outputId": "67f1691a-08a5-4712-d97a-408b9cd35c80"
   },
   "outputs": [],
   "source": [
    "import numpy as np  # Make numpy available using np.\n",
    "\n",
    "# Create a numpy array, and append an element\n",
    "a = np.array([\"Hello\", \"World\"])\n",
    "a = np.append(a, \"!\")\n",
    "print(\"Current array: {}\".format(a))\n",
    "print(\"Printing each element\")\n",
    "for i in a:\n",
    "  print(i)\n",
    "\n",
    "print(\"\\nPrinting each element and their index\")\n",
    "for i,e in enumerate(a):\n",
    "  print(\"Index: {}, was: {}\".format(i, e))"
   ]
  },
  {
   "cell_type": "code",
   "execution_count": null,
   "metadata": {
    "colab": {
     "base_uri": "https://localhost:8080/",
     "height": 114
    },
    "colab_type": "code",
    "executionInfo": {
     "elapsed": 904,
     "status": "ok",
     "timestamp": 1552059272516,
     "user": {
      "displayName": "JinWon Lee",
      "photoUrl": "https://lh3.googleusercontent.com/-xi53GhRlwag/AAAAAAAAAAI/AAAAAAAAAAs/gpZpyx29RY4/s64/photo.jpg",
      "userId": "09449089977781029916"
     },
     "user_tz": -540
    },
    "id": "ck64ccce8MLV",
    "outputId": "d89ddb70-4f3d-4b36-dfe8-aea4eb166cdf"
   },
   "outputs": [],
   "source": [
    "print(\"\\nShowing some basic math on arrays\")\n",
    "b = np.array([0,1,4,3,2])\n",
    "print(\"Max: {}\".format(np.max(b)))\n",
    "print(\"Average: {}\".format(np.average(b)))\n",
    "print(\"Max index: {}\".format(np.argmax(b)))"
   ]
  },
  {
   "cell_type": "code",
   "execution_count": null,
   "metadata": {
    "colab": {
     "base_uri": "https://localhost:8080/",
     "height": 75
    },
    "colab_type": "code",
    "executionInfo": {
     "elapsed": 969,
     "status": "ok",
     "timestamp": 1552059279546,
     "user": {
      "displayName": "JinWon Lee",
      "photoUrl": "https://lh3.googleusercontent.com/-xi53GhRlwag/AAAAAAAAAAI/AAAAAAAAAAs/gpZpyx29RY4/s64/photo.jpg",
      "userId": "09449089977781029916"
     },
     "user_tz": -540
    },
    "id": "SviSS0mJ8MPL",
    "outputId": "ff778828-1dc5-4851-c9a9-92026ca7d32d"
   },
   "outputs": [],
   "source": [
    "print(\"\\nYou can print the type of anything\")\n",
    "print(\"Type of b: {}, type of b[0]: {}\".format(type(a), type(a[0])))"
   ]
  },
  {
   "cell_type": "code",
   "execution_count": null,
   "metadata": {
    "colab": {
     "base_uri": "https://localhost:8080/",
     "height": 114
    },
    "colab_type": "code",
    "executionInfo": {
     "elapsed": 844,
     "status": "ok",
     "timestamp": 1552059297895,
     "user": {
      "displayName": "JinWon Lee",
      "photoUrl": "https://lh3.googleusercontent.com/-xi53GhRlwag/AAAAAAAAAAI/AAAAAAAAAAs/gpZpyx29RY4/s64/photo.jpg",
      "userId": "09449089977781029916"
     },
     "user_tz": -540
    },
    "id": "RLQtKs3I8MVR",
    "outputId": "c4e30979-00d9-4926-d8d3-63af8951f7b4"
   },
   "outputs": [],
   "source": [
    "print(\"\\nUse numpy to create a [3,3] dimension array with random number\")\n",
    "c = np.random.rand(3, 3)\n",
    "print(c)"
   ]
  },
  {
   "cell_type": "code",
   "execution_count": null,
   "metadata": {
    "colab": {
     "base_uri": "https://localhost:8080/",
     "height": 114
    },
    "colab_type": "code",
    "executionInfo": {
     "elapsed": 926,
     "status": "ok",
     "timestamp": 1552059356278,
     "user": {
      "displayName": "JinWon Lee",
      "photoUrl": "https://lh3.googleusercontent.com/-xi53GhRlwag/AAAAAAAAAAI/AAAAAAAAAAs/gpZpyx29RY4/s64/photo.jpg",
      "userId": "09449089977781029916"
     },
     "user_tz": -540
    },
    "id": "mB-nZ_1m8MTF",
    "outputId": "2a969d26-c484-4bb2-a25c-3e235998f8e9"
   },
   "outputs": [],
   "source": [
    "print(\"\\nYou can print the dimensions of arrays\")\n",
    "print(\"Shape of a: {}\".format(a.shape))\n",
    "print(\"Shape of b: {}\".format(b.shape))\n",
    "print(\"Shape of c: {}\".format(c.shape))"
   ]
  },
  {
   "cell_type": "markdown",
   "metadata": {
    "colab_type": "text",
    "id": "xdDzKGit6T1g"
   },
   "source": [
    "## From CS231n Convolutional Neural Networks for Visual Recogninition\n",
    "\n",
    "http://cs231n.github.io/python-numpy-tutorial/"
   ]
  },
  {
   "cell_type": "code",
   "execution_count": null,
   "metadata": {
    "colab": {},
    "colab_type": "code",
    "id": "I7iDDNwB6T1h"
   },
   "outputs": [],
   "source": [
    "import numpy as np\n",
    "from IPython.display import display"
   ]
  },
  {
   "cell_type": "markdown",
   "metadata": {
    "colab_type": "text",
    "id": "mAzKJ6w-6T1j"
   },
   "source": [
    "### 배열\n",
    "numpy 배열은 모두 같은 유형의 값 그리드이며 음수가 아닌 정수의 튜플로 인덱싱됩니다. 차원의 수는 배열의 랭크입니다. 배열의 모양은 각 차원을 따라 배열의 크기를 제공하는 정수의 튜플입니다.\n",
    "중첩 된 파이썬 리스트로부터 numpy 배열을 초기화 할 수 있고 대괄호를 사용하여 요소에 접근 할 수 있습니다."
   ]
  },
  {
   "cell_type": "code",
   "execution_count": null,
   "metadata": {
    "colab": {},
    "colab_type": "code",
    "id": "q_k20ISI6T1k",
    "outputId": "067b7cc7-be85-41f4-8b15-82b7839e8228"
   },
   "outputs": [],
   "source": [
    "a = np.array([1, 2, 3])  # 랭크 1 배열을 만듭니다\n",
    "print(type(a), a.shape, a[0], a[1], a[2])\n",
    "a[0] = 5                 # 배열의 요소를 변경합니다\n",
    "display(a)"
   ]
  },
  {
   "cell_type": "code",
   "execution_count": null,
   "metadata": {
    "colab": {},
    "colab_type": "code",
    "id": "msb-67Ec6T1n",
    "outputId": "1a2acca9-579e-4302-ed94-f132283e6c05"
   },
   "outputs": [],
   "source": [
    "b = np.array([[1,2,3],[4,5,6]])   # 랭크 2 배열을 만듭니다\n",
    "display(b)"
   ]
  },
  {
   "cell_type": "code",
   "execution_count": null,
   "metadata": {
    "colab": {},
    "colab_type": "code",
    "id": "cXQdRbAo6T1p",
    "outputId": "1808cfe2-baa6-40bd-899c-2956d105e374"
   },
   "outputs": [],
   "source": [
    "print(b.shape)  # b의 모양을 출력합니다. 일반적으로 배열의 모양은 배열의 차원입니다.\n",
    "print(b[0, 0], b[0, 1], b[1, 0])"
   ]
  },
  {
   "cell_type": "markdown",
   "metadata": {
    "colab_type": "text",
    "id": "fd2lHknw6T1r"
   },
   "source": [
    "Numpy는 또한 배열을 생성하는 많은 함수를 제공합니다"
   ]
  },
  {
   "cell_type": "code",
   "execution_count": null,
   "metadata": {
    "colab": {},
    "colab_type": "code",
    "id": "4hTcCw2w6T1s",
    "outputId": "ea6b1a05-a639-430a-d90b-727016f7f4f3"
   },
   "outputs": [],
   "source": [
    "a = np.zeros((2,2))  # 0으로 가득찬 배열을 만듭니다.\n",
    "display(a)"
   ]
  },
  {
   "cell_type": "code",
   "execution_count": null,
   "metadata": {
    "colab": {},
    "colab_type": "code",
    "id": "eiu1LfTD6T1u",
    "outputId": "eed93683-3dd0-4485-87da-a465cc9529f6"
   },
   "outputs": [],
   "source": [
    "b = np.ones((1,2))   # 1로 가득찬 배열을 만듭니다.\n",
    "display(b)"
   ]
  },
  {
   "cell_type": "code",
   "execution_count": null,
   "metadata": {
    "colab": {},
    "colab_type": "code",
    "id": "tcdOplQD6T1w",
    "outputId": "08a2594e-d2d1-4f1e-c160-9e3902b6332f"
   },
   "outputs": [],
   "source": [
    "c = np.full((2,2), 7) # 상수 배열을 만듭니다.\n",
    "display(c)"
   ]
  },
  {
   "cell_type": "code",
   "execution_count": null,
   "metadata": {
    "colab": {},
    "colab_type": "code",
    "id": "cTsqI1TO6T1z",
    "outputId": "76b932a7-9c77-4560-9966-e926a542aed5"
   },
   "outputs": [],
   "source": [
    "d = np.eye(2)        # 2x2 단위행렬을 만듭니다.\n",
    "display(d)"
   ]
  },
  {
   "cell_type": "code",
   "execution_count": null,
   "metadata": {
    "colab": {},
    "colab_type": "code",
    "id": "bRQO16Bw6T12",
    "outputId": "b57e0ea7-35be-49df-88e1-8b562d269876"
   },
   "outputs": [],
   "source": [
    "e = np.random.random((2,2)) # 0~1 사이의 값 중 무작위값으로 채워진 배열을 만듭니다.\n",
    "display(e)"
   ]
  },
  {
   "cell_type": "code",
   "execution_count": null,
   "metadata": {
    "colab": {},
    "colab_type": "code",
    "id": "WC27692A6T14",
    "outputId": "ddf5ee17-fa21-47ee-c564-4eda85e636e1"
   },
   "outputs": [],
   "source": [
    "f = np.random.randn(2,2)  # 표준정규분포를 따르는 무작위값 배열을 만듭니다.\n",
    "display(f)"
   ]
  },
  {
   "cell_type": "code",
   "execution_count": null,
   "metadata": {
    "colab": {},
    "colab_type": "code",
    "id": "qv9iXg0-6T16",
    "outputId": "c55fa25e-601b-4363-b4d6-f2be6914960f"
   },
   "outputs": [],
   "source": [
    "g = np.random.normal(size=(2,2))  # 정규분포를 따르는 무작위값 배열을 만듭니다.\n",
    "display(g)"
   ]
  },
  {
   "cell_type": "markdown",
   "metadata": {
    "colab_type": "text",
    "id": "GJAvYUDp6T18"
   },
   "source": [
    "### 배열 색인 생성하기\n",
    "Numpy는 배열에 색인을 생성하는 몇 가지 방법을 제공합니다.\n",
    "슬라이싱 : 파이썬 리스트와 마찬가지로, numpy 배열은 슬라이스 될 수 있습니다. 배열은 다차원일 수 있으므로 배열의 각 차원에 대해 슬라이스를 지정해야합니다."
   ]
  },
  {
   "cell_type": "code",
   "execution_count": null,
   "metadata": {
    "colab": {},
    "colab_type": "code",
    "id": "v4_HF3TI6T18",
    "outputId": "a5d7e63c-c2a2-4e0c-ff41-d2d7db365f64"
   },
   "outputs": [],
   "source": [
    "# (3,4) 형태의 랭크 2 배열을 만듭니다.\n",
    "# [[ 1  2  3  4]\n",
    "#  [ 5  6  7  8]\n",
    "#  [ 9 10 11 12]]\n",
    "a = np.array([[1,2,3,4], [5,6,7,8], [9,10,11,12]])\n",
    "\n",
    "# 슬라이싱을 이용하여 처음 두 행과 두 열로 구성된 부분배열을 만듭니다.\n",
    "# b 는 (2, 2) 형태의 배열이 됩니다.\n",
    "# [[2 3]\n",
    "#  [6 7]]\n",
    "b = a[:2, 1:3]\n",
    "display(b)"
   ]
  },
  {
   "cell_type": "markdown",
   "metadata": {
    "colab_type": "text",
    "id": "RYelatjw6T1_"
   },
   "source": [
    "배열의 조각은 동일한 데이터에 대한 뷰이므로 이를 수정하면 원래 배열이 수정됩니다"
   ]
  },
  {
   "cell_type": "code",
   "execution_count": null,
   "metadata": {
    "colab": {},
    "colab_type": "code",
    "id": "8reQFV076T1_",
    "outputId": "2ba83d25-a51a-4219-9fdc-d49d288485a3"
   },
   "outputs": [],
   "source": [
    "print(a[0, 1])\n",
    "b[0, 0] = 77    # b[0, 0] 는 a[0, 1] 과 동일한 데이터를 갖고 있습니다.\n",
    "print(a[0, 1])"
   ]
  },
  {
   "cell_type": "markdown",
   "metadata": {
    "colab_type": "text",
    "id": "MzdDIKnT6T2B"
   },
   "source": [
    "정수 인덱싱과 슬라이스 인덱싱을 함께 사용할 수도 있습니다. 그러나 이렇게하면 원래 배열보다 낮은 랭크의 배열이 생성됩니다. 이것은 MATLAB이 배열 슬라이스를 처리하는 방식과 매우 다릅니다."
   ]
  },
  {
   "cell_type": "code",
   "execution_count": null,
   "metadata": {
    "colab": {},
    "colab_type": "code",
    "id": "ZVbW7wb66T2C",
    "outputId": "87c45a1e-73c8-462f-e6f4-e656ae015004"
   },
   "outputs": [],
   "source": [
    "# (3, 4) 모양의 랭크 2 배열을 만듭니다.\n",
    "a = np.array([[1,2,3,4], [5,6,7,8], [9,10,11,12]])\n",
    "display(a)"
   ]
  },
  {
   "cell_type": "markdown",
   "metadata": {
    "colab_type": "text",
    "id": "iVilWzAH6T2E"
   },
   "source": [
    "배열의 중간 행에 있는 데이터에 액세스하는 두 가지 방법이 있습니다. 정수 인덱스와 슬라이스를 섞으면 더 낮은 랭크의 배열이 생성되는 반면, 슬라이스만 사용하면 원래 배열과 동일한 랭크의 배열이 생성됩니다."
   ]
  },
  {
   "cell_type": "code",
   "execution_count": null,
   "metadata": {
    "colab": {},
    "colab_type": "code",
    "id": "VKwRc-yW6T2F",
    "outputId": "870dbcac-5707-46f4-85ce-b9316e455161"
   },
   "outputs": [],
   "source": [
    "row_r1 = a[1, :]    # a의 두번째 행의 랭크 1 뷰  \n",
    "row_r2 = a[1:2, :]  # a의 두번째 행의 랭크 2 뷰\n",
    "row_r3 = a[[1], :]  # a의 두번째 행의 랭크 2 뷰\n",
    "print(row_r1, row_r1.shape)  # 정수 인덱스와 섞은 경우\n",
    "print(row_r2, row_r2.shape)  # 슬라이스만 사용한 경우\n",
    "print(row_r3, row_r3.shape)  # 슬라이스만 사용한 경우"
   ]
  },
  {
   "cell_type": "code",
   "execution_count": null,
   "metadata": {
    "colab": {},
    "colab_type": "code",
    "id": "AvKAiagq6T2I",
    "outputId": "9c8c4f6f-aac6-47ab-f941-15d607f98ef6"
   },
   "outputs": [],
   "source": [
    "# 행이 아닌 열의 경우에도 마찬가지입니다:\n",
    "col_r1 = a[:, 1]\n",
    "col_r2 = a[:, 1:2]\n",
    "print (col_r1, col_r1.shape)  # 출력 \"[ 2  6 10] (3,)\"\n",
    "print (col_r2, col_r2.shape)  # 출력 \"[[ 2]\n",
    "                              #       [ 6]\n",
    "                              #       [10]] (3, 1)\""
   ]
  },
  {
   "cell_type": "markdown",
   "metadata": {
    "colab_type": "text",
    "id": "Klvjuc0V6T2K"
   },
   "source": [
    "정수 배열 인덱싱 : 슬라이싱을 사용하여 numpy 배열로 인덱싱 할 때 결과 배열 뷰는 항상 원래 배열의 하위 배열이 됩니다. 반대로 정수 배열 인덱싱을 사용하면 다른 배열의 데이터를 사용하여 임의의 배열을 구성 할 수 있습니다. 다음은 그 예입니다."
   ]
  },
  {
   "cell_type": "code",
   "execution_count": null,
   "metadata": {
    "colab": {},
    "colab_type": "code",
    "id": "b_O1IILP6T2K",
    "outputId": "39c0dfb3-1559-4393-b24e-6aad340fd566"
   },
   "outputs": [],
   "source": [
    "a = np.array([[1,2], [3, 4], [5, 6]])\n",
    "display(a)\n",
    "\n",
    "# 정수 배열 인덱싱 예.\n",
    "# 결과 배열은 (3,) 형태가 됩니다. \n",
    "display(a[[0, 1, 2], [0, 1, 0]])\n",
    "\n",
    "# 위의 정수 배열 인덱싱은 아래와 같습니다.\n",
    "display(np.array([a[0, 0], a[1, 1], a[2, 0]]))"
   ]
  },
  {
   "cell_type": "code",
   "execution_count": null,
   "metadata": {
    "colab": {},
    "colab_type": "code",
    "id": "jOmtgILQ6T2M",
    "outputId": "3c033a45-f658-4e2f-daa5-1941d0cec8a9"
   },
   "outputs": [],
   "source": [
    "# 배열 인덱싱을 사용할 때, 소스 배열과 같은 요소를 사용해도 됩니다.\n",
    "display(a[[0, 0], [1, 1]])\n",
    "\n",
    "# 위의 정수 배열 인덱싱 예와 같은 경우입니다.\n",
    "display(np.array([a[0, 1], a[0, 1]]))"
   ]
  },
  {
   "cell_type": "markdown",
   "metadata": {
    "colab_type": "text",
    "id": "fDcgXSKv6T2O"
   },
   "source": [
    "정수 배열 인덱싱을 사용하는 유용한 트릭은 행렬의 각 행에서 하나의 요소를 선택하거나 변경하는 것입니다."
   ]
  },
  {
   "cell_type": "code",
   "execution_count": null,
   "metadata": {
    "colab": {},
    "colab_type": "code",
    "id": "gLPQgvhL6T2P",
    "outputId": "a3592b32-a728-430b-94c7-656d1f6ef4e5"
   },
   "outputs": [],
   "source": [
    "# 요소를 선택할 새 배열을 만듭니다.\n",
    "a = np.array([[1,2,3], [4,5,6], [7,8,9], [10, 11, 12]])\n",
    "display(a)"
   ]
  },
  {
   "cell_type": "code",
   "execution_count": null,
   "metadata": {
    "colab": {},
    "colab_type": "code",
    "id": "mktl52ED6T2Q",
    "outputId": "ce672974-2eb3-4557-9d44-967162ca0d7a"
   },
   "outputs": [],
   "source": [
    "# 인덱스 배열을 만듭니다.\n",
    "b = np.array([0, 2, 0, 1])\n",
    "\n",
    "# b의 인덱스를 이용하여 a의 각 행으로부터 하나의 요소들을 선택합니다.\n",
    "display(a[np.arange(4), b])  # Prints \"[ 1  6  7 11]\""
   ]
  },
  {
   "cell_type": "code",
   "execution_count": null,
   "metadata": {
    "colab": {},
    "colab_type": "code",
    "id": "7m09klxD6T2T",
    "outputId": "2849f711-623b-4a4c-c59a-d155a7681b8b"
   },
   "outputs": [],
   "source": [
    "# b의 인덱스를 이용하여 각 행의 하나의 요소를 변경합니다.\n",
    "a[np.arange(4), b] += 10\n",
    "display(a)"
   ]
  },
  {
   "cell_type": "markdown",
   "metadata": {
    "colab_type": "text",
    "id": "gM8SqjAw6T2V"
   },
   "source": [
    "### 부울 배열 인덱싱\n",
    "부울 배열 인덱싱을 사용하면 배열의 임의 요소를 선택할 수 있습니다. 이 유형의 인덱싱은 일부 조건을 만족하는 배열 요소를 선택하는 데 자주 사용됩니다. 다음은 그 예입니다."
   ]
  },
  {
   "cell_type": "code",
   "execution_count": null,
   "metadata": {
    "colab": {},
    "colab_type": "code",
    "id": "GMG3Wych6T2V",
    "outputId": "ec7b7c50-024b-4c5b-d2a0-ded5367dfc7a"
   },
   "outputs": [],
   "source": [
    "import numpy as np\n",
    "\n",
    "a = np.array([[1,2], [3, 4], [5, 6]])\n",
    "\n",
    "bool_idx = (a > 2)  # 2보다 큰 a의 원소를 찾습니다. \n",
    "                    # 이것은 a와 동일한 모양의 부울 값 배열을 반환합니다. \n",
    "                    # 여기서 bool_idx의 각 슬롯은 a의 해당 요소가 2보다 큰지 여부를 나타냅니다.\n",
    "\n",
    "display(bool_idx)"
   ]
  },
  {
   "cell_type": "code",
   "execution_count": null,
   "metadata": {
    "colab": {},
    "colab_type": "code",
    "id": "8QyLojkX6T2X",
    "outputId": "6818a129-e465-4242-8763-e6fc1880f444"
   },
   "outputs": [],
   "source": [
    "# 부울 배열 인덱싱을 사용하여 bool_idx의 True 값에 해당하는 요소로 구성된 \n",
    "# 랭크 1 배열을 생성합니다\n",
    "display(a[bool_idx])\n",
    "\n",
    "# 위의 모든 것을 간결하게 할 수 있습니다.\n",
    "display(a[a > 2])"
   ]
  },
  {
   "cell_type": "markdown",
   "metadata": {
    "colab_type": "text",
    "id": "H9AoFC5e6T2Y"
   },
   "source": [
    "### 데이터 유형\n",
    "\n",
    "각 numpy 배열은 동일한 유형의 요소 그리드입니다. Numpy는 배열을 생성하는 데 사용할 수있는 많은 수의 데이터 유형을 제공합니다. Numpy는 배열을 생성 할 때 데이터 유형을 추측하려 하지만 배열을 생성하는 함수는 대개 데이터 유형을 명시적으로 지정하는 선택적 인수를 포함합니다. 다음은 그 예입니다."
   ]
  },
  {
   "cell_type": "code",
   "execution_count": null,
   "metadata": {
    "colab": {},
    "colab_type": "code",
    "id": "n4Mia8216T2Z",
    "outputId": "f93487ef-128a-4239-b7e9-6b249921422c"
   },
   "outputs": [],
   "source": [
    "x = np.array([1, 2])  # numpy 가 데이터 유형을 선택하게 합시다.\n",
    "y = np.array([1.0, 2.0])  # numpy 가 데이터 유형을 선택하게 합시다.\n",
    "z = np.array([1, 2], dtype=np.int64)  # 특정 데이터 유형을 강제로 할당합시다.\n",
    "\n",
    "print(x.dtype, y.dtype, z.dtype)"
   ]
  },
  {
   "cell_type": "markdown",
   "metadata": {
    "colab_type": "text",
    "id": "8HqILIiI6T2b"
   },
   "source": [
    "https://docs.scipy.org/doc/numpy/reference/arrays.dtypes.html\n",
    "\n",
    "문서에서 numpy 데이터 유형에 대한 모든 것을 읽을 수 있습니다."
   ]
  },
  {
   "cell_type": "markdown",
   "metadata": {
    "colab_type": "text",
    "id": "MMYcufe66T2c"
   },
   "source": [
    "### 배열 수학\n",
    "\n",
    "기본 수학 함수는 배열에서 요소 단위로 작동하며 연산자 오버로드와 numpy 모듈의 함수로 사용할 수 있습니다."
   ]
  },
  {
   "cell_type": "code",
   "execution_count": null,
   "metadata": {
    "colab": {},
    "colab_type": "code",
    "id": "6u2gHnmu6T2c",
    "outputId": "c209cffd-8e1f-4428-8e18-86eedf56bc26"
   },
   "outputs": [],
   "source": [
    "x = np.array([[1,2],[3,4]], dtype=np.float64)\n",
    "y = np.array([[5,6],[7,8]], dtype=np.float64)\n",
    "\n",
    "# 요소별 합. 둘 다 배열을 만듭니다.\n",
    "display(x + y)\n",
    "display(np.add(x, y))"
   ]
  },
  {
   "cell_type": "code",
   "execution_count": null,
   "metadata": {
    "colab": {},
    "colab_type": "code",
    "id": "HJ5gKQNR6T2e",
    "outputId": "1a7315ce-28dc-4525-b743-1d9bcd017d04"
   },
   "outputs": [],
   "source": [
    "# 요소별 차. 둘 다 배열을 만듭니다.\n",
    "print(x - y)\n",
    "print(np.subtract(x, y))"
   ]
  },
  {
   "cell_type": "code",
   "execution_count": null,
   "metadata": {
    "colab": {},
    "colab_type": "code",
    "id": "EXgtgO_i6T2g",
    "outputId": "85c12d01-ba9c-4146-e14e-ea91a052cae8"
   },
   "outputs": [],
   "source": [
    "# 요소별 곱. 둘 다 배열을 만듭니다.\n",
    "print(x * y)\n",
    "print(np.multiply(x, y))"
   ]
  },
  {
   "cell_type": "code",
   "execution_count": null,
   "metadata": {
    "colab": {},
    "colab_type": "code",
    "id": "HQn3g6CE6T2k",
    "outputId": "6ce5e85c-eac8-408b-b197-1b676ee086ea"
   },
   "outputs": [],
   "source": [
    "# 요소별 나누기. 둘 다 배열을 만듭니다.\n",
    "# [[ 0.2         0.33333333]\n",
    "#  [ 0.42857143  0.5       ]]\n",
    "print(x / y)\n",
    "print(np.divide(x, y))"
   ]
  },
  {
   "cell_type": "code",
   "execution_count": null,
   "metadata": {
    "colab": {},
    "colab_type": "code",
    "id": "20hDtGN-6T2m",
    "outputId": "e6720bcf-8b53-4907-8ff8-e40320355e68"
   },
   "outputs": [],
   "source": [
    "x = np.array([[1,2],[3,4]])\n",
    "y = np.array([[5,6],[7,8]])\n",
    "\n",
    "v = np.array([9,10])\n",
    "w = np.array([11, 12])\n",
    "\n",
    "# 벡터의 내적.  둘 다 219\n",
    "print(v.dot(w))\n",
    "print(np.dot(v, w))"
   ]
  },
  {
   "cell_type": "code",
   "execution_count": null,
   "metadata": {
    "colab": {},
    "colab_type": "code",
    "id": "cih6tntm6T2o",
    "outputId": "9290ad59-87e8-44af-cba7-ddc4eec0af0f"
   },
   "outputs": [],
   "source": [
    "# 행렬 / 벡터 곱. 둘 다 랭크 1 배열 [29 67] 을 만듭니다.\n",
    "print(x.dot(v))\n",
    "print(np.dot(x, v))"
   ]
  },
  {
   "cell_type": "code",
   "execution_count": null,
   "metadata": {
    "colab": {},
    "colab_type": "code",
    "id": "bsSP_lKj6T2q",
    "outputId": "9da0776f-a399-49e9-dc21-66f593c543d5"
   },
   "outputs": [],
   "source": [
    "# 행렬 / 행렬 곱. 둘 다 랭크 2 배열을 만듭니다.\n",
    "# [[19 22]\n",
    "#  [43 50]]\n",
    "print(x.dot(y))\n",
    "print(np.dot(x, y))"
   ]
  },
  {
   "cell_type": "code",
   "execution_count": null,
   "metadata": {
    "colab": {},
    "colab_type": "code",
    "id": "w109ng-o6T2u",
    "outputId": "3ef4c7b3-4c56-4267-91c1-9bc88b5c9c47"
   },
   "outputs": [],
   "source": [
    "x = np.array([[1,2],[3,4]])\n",
    "\n",
    "print(np.sum(x))  # 모든 요소의 합. \"10\"을 출력합니다.\n",
    "print(np.sum(x, axis=0))  # 각 열의 합. \"[4 6]\" 을 출력합니다.\n",
    "print(np.sum(x, axis=1))  # 각 행의 합. \"[3 7]\" 을 출력합니다."
   ]
  },
  {
   "cell_type": "markdown",
   "metadata": {
    "colab_type": "text",
    "id": "io2PKmwL6T2x"
   },
   "source": [
    "여기서 축(axis)은 각 배열의 차원에 해당되는 인덱스입니다. 위의 예를 설명하면\n",
    "\n",
    "- x.shape 은 (2, 2) 입니다.\n",
    "- np.sum(x, axis=0) 은\n",
    "- x.shape[axis]: x.shape[0] 에 대하여 연산을 하라는 의미\n",
    "입니다.\n",
    "\n",
    "X.shape == (5, 3, 2) 인 경우를 생각해봅시다. 이 경우 np.sum(X, axis=1) 의 결과값은\n",
    "\n",
    "1. X.shape[axis] => X.shape[1] 에 대해서 연산을 하기 때문에\n",
    "2. np.sum(X, axis=1).shape 은 (5, 3, 2) -> (5, 2) 가 됩니다."
   ]
  },
  {
   "cell_type": "markdown",
   "metadata": {
    "colab_type": "text",
    "id": "KCnArcu66T2y"
   },
   "source": [
    "배열을 사용하여 수학 함수를 계산하는 것 외에도 배열의 데이터를 변형하거나 조작해야 하는 경우가 자주 있습니다. 이 유형의 연산 중 가장 간단한 예는 행렬을 교차(transpose)하는 것입니다. 행렬을 교차하려면 단순히 배열 객체의 T 속성을 사용하십시오."
   ]
  },
  {
   "cell_type": "code",
   "execution_count": null,
   "metadata": {
    "colab": {},
    "colab_type": "code",
    "id": "nVnorGJB6T2y",
    "outputId": "a997bb04-9f2e-4aa6-e4c8-623f94e22d7d"
   },
   "outputs": [],
   "source": [
    "print(x)\n",
    "print(x.T)"
   ]
  },
  {
   "cell_type": "code",
   "execution_count": null,
   "metadata": {
    "colab": {},
    "colab_type": "code",
    "id": "xpciluPe6T20",
    "outputId": "6b0ec724-0430-484a-c1f6-9caf1fbb20ef"
   },
   "outputs": [],
   "source": [
    "v = np.array([[1,2,3]])\n",
    "print(v)\n",
    "print(v.T)"
   ]
  },
  {
   "cell_type": "markdown",
   "metadata": {
    "colab_type": "text",
    "id": "Mi01xaJn6T22"
   },
   "source": [
    "### 브로드캐스팅\n",
    "\n",
    "브로드캐스팅은 numpy가 산술 연산을 수행 할 때 다른 모양의 배열로 작업 할 수있게 해주는 강력한 메커니즘입니다. 종종 더 작은 배열과 더 큰 배열이 있을 때 더 작은 배열을 여러 번 사용하여 더 큰 배열에서 어떤 연산을 수행하기를 원할 때가 있습니다.\n",
    "\n",
    "예를 들어, 행렬의 각 행에 상수 벡터를 추가하려 한다고 가정합시다. 다음과 같이 할 수 있습니다."
   ]
  },
  {
   "cell_type": "code",
   "execution_count": null,
   "metadata": {
    "colab": {},
    "colab_type": "code",
    "id": "IkEZ8rJm6T23",
    "outputId": "e98f31eb-5e53-4ace-e347-e434f7285961"
   },
   "outputs": [],
   "source": [
    "# 행렬 x의 각 행에 벡터 v를 더하고 그 결과를 행렬 y에 저장할 것입니다.\n",
    "x = np.array([[1,2,3], [4,5,6], [7,8,9], [10, 11, 12]])\n",
    "v = np.array([1, 0, 1])\n",
    "y = np.empty_like(x)   # x와 같은 모양의 빈 행렬 생성\n",
    "\n",
    "# 루프를 이용하여 행렬의 각 행에 벡터 v를 더한다.\n",
    "for i in range(4):\n",
    "    y[i, :] = x[i, :] + v\n",
    "\n",
    "display(y)"
   ]
  },
  {
   "cell_type": "markdown",
   "metadata": {
    "colab_type": "text",
    "id": "duq43e7l6T26"
   },
   "source": [
    "이것도 돌아갑니다. 그러나 행렬 x가 매우 클 경우 Python에서 명시적 루프를 계산하는 속도가 느려질 수 있습니다. 행렬 x의 각 행에 벡터 v를 더하는 것은 v의 여러 복사본을 수직으로 쌓은 다음 행렬 x와 v의 요소별 합계를 수행하여 행렬 v를 형성하는 것과 같습니다. 이 접근법은 다음과 같이 구현할 수 있습니다."
   ]
  },
  {
   "cell_type": "code",
   "execution_count": null,
   "metadata": {
    "colab": {},
    "colab_type": "code",
    "id": "Bra9qnV96T26",
    "outputId": "3649ff1c-6a4f-469c-a4a1-4738790531c5"
   },
   "outputs": [],
   "source": [
    "vv = np.tile(v, (4, 1))  # v의 4개의 카피를 쌓음.\n",
    "print(vv)                # 출력은   \"[[1 0 1]\n",
    "                         #          [1 0 1]\n",
    "                         #          [1 0 1]\n",
    "                         #          [1 0 1]]\""
   ]
  },
  {
   "cell_type": "code",
   "execution_count": null,
   "metadata": {
    "colab": {},
    "colab_type": "code",
    "id": "4OpkmgAn6T28",
    "outputId": "31a17e33-1b6c-4f15-db60-76f1075a3add"
   },
   "outputs": [],
   "source": [
    "y = x + vv  # x 와 vv를 요소별로 더함\n",
    "print(y)"
   ]
  },
  {
   "cell_type": "markdown",
   "metadata": {
    "colab_type": "text",
    "id": "MOuFb5X36T2-"
   },
   "source": [
    "Numpy 브로드캐스팅은 실제로 v의 여러 복사본을 만들지 않고도 이 계산을 수행 할 수 있게 해줍니다. 브로드캐스팅을 사용한 경우를 봅시다."
   ]
  },
  {
   "cell_type": "code",
   "execution_count": null,
   "metadata": {
    "colab": {},
    "colab_type": "code",
    "id": "gX9vlUOK6T2-",
    "outputId": "178ac7ff-168f-4d11-9e81-c4f4aa130361",
    "scrolled": true
   },
   "outputs": [],
   "source": [
    "y = x + v  # 브로드캐스팅을 이용해 x의 각 행에 v를 더하기\n",
    "print(y)"
   ]
  },
  {
   "cell_type": "markdown",
   "metadata": {
    "colab_type": "text",
    "id": "ZaN-DOwg6T3A"
   },
   "source": [
    "y = x + v 라인은 브로드캐스팅으로 인해 x가 shape (4, 3)이고 v가 shape (3)인데도 작동합니다. 이 행은 v가 실제로 shape (4, 3)인 것처럼 작동합니다. 각 행은 v의 사본이었고, 합계는 요소별로 수행되었습니다.\n",
    "\n",
    "두 개의 배열을 브로드캐스팅하는 것은 다음 규칙을 따릅니다.\n",
    "\n",
    "1. 배열의 랭크가 같지 않으면 두 모양이 같은 길이가 될 때까지 배열의 낮은 랭크쪽에 1을 붙입니다.\n",
    "2. 두 배열은 차원에서 크기가 같거나 배열 중 하나의 차원에 크기가 1 인 경우 차원에서 호환 가능하다고 합니다.\n",
    "3. 배열은 모든 차원에서 호환되면 함께 브로드캐스트 될 수 있습니다.\n",
    "4. 브로드캐스트 후 각 배열은 두 개의 입력 배열의 요소 모양 최대 개수와 동일한 모양을 가진 것처럼 동작합니다.\n",
    "5. 한 배열의 크기가 1이고 다른 배열의 크기가 1보다 큰 차원에서 첫 번째 배열은 마치 해당 차원을 따라 복사 된 것처럼 작동합니다\n",
    "\n",
    "실제로 동작하는 방식을 생각해 봅시다.\n",
    "\n",
    "1. A와 B의 모양을 생각합니다.\n",
    "2. 두 배열이 len(A.shape) == len(B.shape)인지 확인을 합니다.\n",
    "3. 같지 않은 경우에는 두 배열의 모양 길이가 같아질때까지 적은 쪽의 shape 앞에 1 을 추가해 줍니다.\n",
    "- 예: (5,3)–>(1,5,3)\n",
    "4. shape이 1인 곳은 복사가 됩니다.\n",
    "- 예: shape의 변화는 아래와 같게 될겁니다.\n",
    "- (5, 3)+(3,)\n",
    "- (5, 3)+(1, 3)\n",
    "- (5, 3) + (5, 3)\n",
    "- (5, 3)\n",
    "\n",
    "이 설명이 이해가되지 않으면 문서 또는 이 설명을 읽으십시오.\n",
    "\n",
    "https://docs.scipy.org/doc/numpy/user/basics.broadcasting.html\n",
    "\n",
    "http://scipy.github.io/old-wiki/pages/EricsBroadcastingDoc\n",
    "\n",
    "브로드캐스팅을 지원하는 함수들을 보편 함수라고합니다. 이 문서에서 모든 보편 함수 목록을 찾을 수 있습니다.\n",
    "https://docs.scipy.org/doc/numpy/reference/ufuncs.html#available-ufuncs\n",
    "\n",
    "다음은 브로드캐스팅의 일부 예입니다."
   ]
  },
  {
   "cell_type": "code",
   "execution_count": null,
   "metadata": {
    "colab": {},
    "colab_type": "code",
    "id": "5-FTfsvk6T3B",
    "outputId": "2e11ec63-9f5a-4f73-d7c8-cf8222193213"
   },
   "outputs": [],
   "source": [
    "v = np.array([1,2,3])  # v 는 (3,) 모양\n",
    "w = np.array([4,5])    # w 는 (2,) 모양\n",
    "# 벡터를 행렬의 각 행에 더합니다.\n",
    "x = np.array([[1,2,3], [4,5,6]])\n",
    "# x 는 (2, 3) 모양이며, v 는 (3, ) 모양입니다. 그래서 (2, 3)으로 브로드캐스트됩니다:\n",
    "\n",
    "print(x + v)"
   ]
  },
  {
   "cell_type": "code",
   "execution_count": null,
   "metadata": {
    "colab": {},
    "colab_type": "code",
    "id": "QTsrVjTg6T3C",
    "outputId": "78058195-a739-4541-f49e-ed98315ab898"
   },
   "outputs": [],
   "source": [
    "# 행렬의 각 열에 벡터를 추가합니다. \n",
    "# x는 (2, 3) 모양이고 w는 (2,) 모양 입니다.\n",
    "# x를 전치한다면 (3, 2) 모양이 되며, w에 대해 브로드캐스트하여 (3, 2) 모양의 결과를 얻을 수 있습니다. \n",
    "# 이 결과를 전치하면 (2, 3) 모양의 최종 결과가 나오는데, 이는 행렬 x의 각 열에 벡터 w를 더한 것입니다.\n",
    "\n",
    "print((x.T + w).T)"
   ]
  },
  {
   "cell_type": "code",
   "execution_count": null,
   "metadata": {
    "colab": {},
    "colab_type": "code",
    "id": "WkAFzVDo6T3E",
    "outputId": "478f7890-128c-4551-8c43-d2ff6a905aee"
   },
   "outputs": [],
   "source": [
    "# 다른 방법은 w의 모양을 (2, 1)의 행벡터로 바꾸는 것입니다.\n",
    "# 그 다음 x에 대해 바로 브로드캐스트하여 같은 결과를 만들 수 있습니다.\n",
    "print(x + np.reshape(w, (2, 1)))"
   ]
  },
  {
   "cell_type": "code",
   "execution_count": null,
   "metadata": {
    "colab": {},
    "colab_type": "code",
    "id": "cIraXgz36T3G",
    "outputId": "a0adc55b-df70-4ba8-8547-746ebba706db"
   },
   "outputs": [],
   "source": [
    "# 행렬에 상수를 곱합니다:\n",
    "# x 는 (2, 3)의 모양입니다. Numpy 는 스칼라를 () 모양의 배열로 다룹니다;\n",
    "# 이것들은 아래의 방법으로 (2, 3) 모양으로 브로드캐스트할 수 있습니다.\n",
    "print(x * 2)"
   ]
  },
  {
   "cell_type": "markdown",
   "metadata": {
    "colab_type": "text",
    "id": "-P6_zbmF6T3H"
   },
   "source": [
    "### Views vs. Copies"
   ]
  },
  {
   "cell_type": "markdown",
   "metadata": {
    "colab_type": "text",
    "id": "eSNMhqvq6T3I"
   },
   "source": [
    "copy와는 다르게 array의 view에서는 data가 share됩니다. 어떤 때는 우리의 결과가 array의 copy이지만 다른 때에는 view일 수 있습니다. 각각이 언제 만들어지는지 이해하는 것은 예기치 않은 문제를 피하기 위해 중요합니다.\n",
    "\n",
    "view는 array의 slicing을 통해서 생길 수 있습니다."
   ]
  },
  {
   "cell_type": "code",
   "execution_count": null,
   "metadata": {
    "colab": {},
    "colab_type": "code",
    "id": "LprdaBWu6T3I",
    "outputId": "dea3783a-2c31-4006-99bb-c41ded700243"
   },
   "outputs": [],
   "source": [
    "x = np.arange(5)\n",
    "print('Original:\\n', x)  # Prints [0 1 2 3 4]\n",
    "\n",
    "# Modifying the view will modify the array\n",
    "view = x[1:3]\n",
    "view[1] = -1\n",
    "print('Array After Modified View:\\n', x)  # Prints [0 1 -1 3 4]"
   ]
  },
  {
   "cell_type": "code",
   "execution_count": null,
   "metadata": {
    "colab": {},
    "colab_type": "code",
    "id": "QqlRODR16T3K",
    "outputId": "8cd62201-6b7b-4b3e-b63c-e1661d367094"
   },
   "outputs": [],
   "source": [
    "x = np.arange(5)\n",
    "view = x[1:3]\n",
    "view[1] = -1\n",
    "\n",
    "# Modifying the array will modify the view\n",
    "print('View Before Array Modification:\\n', view)  # Prints [1 -1]\n",
    "x[2] = 10\n",
    "print('Array After Modifications:\\n', x)          # Prints [0 1 10 3 4]\n",
    "print('View After Array Modification:\\n', view)   # Prints [1 10]"
   ]
  },
  {
   "cell_type": "markdown",
   "metadata": {
    "colab_type": "text",
    "id": "3Syrl5qV6T3L"
   },
   "source": [
    "그러나 만약에 우리가 fancy indexing을 사용한다면, view가 아니라 copy가 생성됩니다"
   ]
  },
  {
   "cell_type": "code",
   "execution_count": null,
   "metadata": {
    "colab": {},
    "colab_type": "code",
    "id": "FaInvHA56T3M",
    "outputId": "455df2b1-5c8a-45d4-ac6b-aeb45e94bc86"
   },
   "outputs": [],
   "source": [
    "x = np.arange(5)\n",
    "print('Original:\\n', x)  # Prints [0 1 2 3 4]\n",
    "\n",
    "# Modifying the result of the selection due to fancy indexing\n",
    "# will not modify the original array.\n",
    "copy = x[[1, 2]]\n",
    "copy[1] = -1\n",
    "print('Copy:\\n', copy) # Prints [1 -1]\n",
    "print('Array After Modified Copy:\\n', x)  # Prints [0 1 2 3 4]"
   ]
  },
  {
   "cell_type": "code",
   "execution_count": null,
   "metadata": {
    "colab": {},
    "colab_type": "code",
    "id": "IAB3pzVr6T3O",
    "outputId": "6d898f21-6706-4803-e71e-4f23e88abafb"
   },
   "outputs": [],
   "source": [
    "# Another example involving fancy indexing\n",
    "x = np.arange(5)\n",
    "print('Original:\\n', x)  # Prints [0 1 2 3 4]\n",
    "\n",
    "copy = x[x >= 2]\n",
    "print('Copy:\\n', copy) # Prints [2 3 4]\n",
    "x[3] = 10\n",
    "print('Modified Array:\\n', x)  # Prints [0 1 2 10 4]\n",
    "print('Copy After Modified Array:\\n', copy)  # Prints [2 3 4]"
   ]
  }
 ],
 "metadata": {
  "colab": {
   "collapsed_sections": [],
   "name": "1_1.python_numpy_basic.ipynb",
   "provenance": [],
   "version": "0.3.2"
  },
  "kernelspec": {
   "display_name": "Python 3",
   "language": "python",
   "name": "python3"
  },
  "language_info": {
   "codemirror_mode": {
    "name": "ipython",
    "version": 3
   },
   "file_extension": ".py",
   "mimetype": "text/x-python",
   "name": "python",
   "nbconvert_exporter": "python",
   "pygments_lexer": "ipython3",
   "version": "3.5.6"
  }
 },
 "nbformat": 4,
 "nbformat_minor": 1
}
