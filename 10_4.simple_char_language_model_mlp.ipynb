{
 "cells": [
  {
   "cell_type": "markdown",
   "metadata": {},
   "source": [
    "# Simple Language Model with MLP\n",
    "\n",
    "Multi-layer Perceptron을 이용하여 간단한 language model을 학습시켜 보겠습니다."
   ]
  },
  {
   "cell_type": "code",
   "execution_count": 2,
   "metadata": {},
   "outputs": [
    {
     "name": "stdout",
     "output_type": "stream",
     "text": [
      "2.0.0-beta1\n",
      "2.2.4-tf\n"
     ]
    }
   ],
   "source": [
    "## library import\n",
    "import tensorflow as tf\n",
    "from tensorflow import keras\n",
    "from tensorflow.keras import layers\n",
    "from tensorflow.keras.utils import to_categorical\n",
    "import numpy as np\n",
    "import matplotlib.pyplot as plt\n",
    "\n",
    "print(tf.__version__)\n",
    "print(keras.__version__)"
   ]
  },
  {
   "cell_type": "markdown",
   "metadata": {},
   "source": [
    "## Training Sentence"
   ]
  },
  {
   "cell_type": "code",
   "execution_count": 3,
   "metadata": {},
   "outputs": [
    {
     "name": "stdout",
     "output_type": "stream",
     "text": [
      "['a', 'w', ' ', 'u', 't', 'o', 'f', 'i', 'n', 'y']\n",
      "{'a': 0, 'w': 1, ' ': 2, 'u': 3, 't': 4, 'o': 5, 'f': 6, 'i': 7, 'n': 8, 'y': 9}\n"
     ]
    }
   ],
   "source": [
    "## 학습시킬 문장\n",
    "sentence = \" if you want you\"\n",
    "## index를 주면 charcter로 바꿔주는 list\n",
    "idx2char = list(set(sentence))\n",
    "## character를 주면 index로 바꿔주는 dictionary\n",
    "char2idx = {w: i for i, w in enumerate(idx2char)}\n",
    "\n",
    "print(idx2char)\n",
    "print(char2idx)"
   ]
  },
  {
   "cell_type": "markdown",
   "metadata": {},
   "source": [
    "## Hyper Parameters"
   ]
  },
  {
   "cell_type": "code",
   "execution_count": 4,
   "metadata": {},
   "outputs": [
    {
     "name": "stdout",
     "output_type": "stream",
     "text": [
      "10\n"
     ]
    }
   ],
   "source": [
    "data_dim = len(idx2char)\n",
    "hidden_size = len(idx2char)\n",
    "num_classes = len(idx2char)\n",
    "sequence_length = 10  # Any arbitrary number\n",
    "learning_rate = 0.1\n",
    "batch_size = 1\n",
    "training_epochs = 30\n",
    "print(num_classes)"
   ]
  },
  {
   "cell_type": "markdown",
   "metadata": {},
   "source": [
    "## Dataset"
   ]
  },
  {
   "cell_type": "code",
   "execution_count": 5,
   "metadata": {},
   "outputs": [],
   "source": [
    "sentence_idx = [char2idx[c] for c in sentence]\n",
    "dataX = [sentence_idx[:-1]]\n",
    "dataY = [sentence_idx[1:]]"
   ]
  },
  {
   "cell_type": "code",
   "execution_count": 6,
   "metadata": {},
   "outputs": [
    {
     "name": "stdout",
     "output_type": "stream",
     "text": [
      "(1, 15, 10) (1, 15, 10)\n"
     ]
    }
   ],
   "source": [
    "dataX = np.array(to_categorical(dataX, num_classes))\n",
    "dataY = np.array(to_categorical(dataY, num_classes))\n",
    "print(dataX.shape, dataY.shape)"
   ]
  },
  {
   "cell_type": "code",
   "execution_count": 7,
   "metadata": {},
   "outputs": [],
   "source": [
    "train_dataset = tf.data.Dataset.from_tensor_slices((dataX, dataY)).shuffle(\n",
    "                buffer_size=1000).prefetch(buffer_size=batch_size).batch(batch_size).repeat()"
   ]
  },
  {
   "cell_type": "markdown",
   "metadata": {},
   "source": [
    "## Model Function"
   ]
  },
  {
   "cell_type": "code",
   "execution_count": 8,
   "metadata": {},
   "outputs": [],
   "source": [
    "def create_model():\n",
    "    model = keras.Sequential()\n",
    "    model.add(keras.layers.Dense(units=num_classes, activation='relu',\n",
    "                                input_shape=(dataX.shape[1],dataX.shape[2])))\n",
    "    model.add(keras.layers.Dense(units=num_classes, activation='softmax'))\n",
    "    return model"
   ]
  },
  {
   "cell_type": "code",
   "execution_count": 9,
   "metadata": {},
   "outputs": [
    {
     "name": "stdout",
     "output_type": "stream",
     "text": [
      "Model: \"sequential\"\n",
      "_________________________________________________________________\n",
      "Layer (type)                 Output Shape              Param #   \n",
      "=================================================================\n",
      "dense (Dense)                (None, 15, 10)            110       \n",
      "_________________________________________________________________\n",
      "dense_1 (Dense)              (None, 15, 10)            110       \n",
      "=================================================================\n",
      "Total params: 220\n",
      "Trainable params: 220\n",
      "Non-trainable params: 0\n",
      "_________________________________________________________________\n"
     ]
    }
   ],
   "source": [
    "model = create_model()\n",
    "model.summary()"
   ]
  },
  {
   "cell_type": "markdown",
   "metadata": {},
   "source": [
    "## Loss & Optimizer"
   ]
  },
  {
   "cell_type": "code",
   "execution_count": 10,
   "metadata": {},
   "outputs": [],
   "source": [
    "def loss(labels, logits):\n",
    "    return keras.losses.categorical_crossentropy(labels, logits)\n",
    "\n",
    "def adam_opt(learning_rate):\n",
    "    return keras.optimizers.Adam(learning_rate)"
   ]
  },
  {
   "cell_type": "markdown",
   "metadata": {},
   "source": [
    "## Model Compile"
   ]
  },
  {
   "cell_type": "code",
   "execution_count": 11,
   "metadata": {},
   "outputs": [],
   "source": [
    "model.compile(optimizer=adam_opt(learning_rate),\n",
    "              loss=loss)"
   ]
  },
  {
   "cell_type": "markdown",
   "metadata": {},
   "source": [
    "## Training"
   ]
  },
  {
   "cell_type": "code",
   "execution_count": 12,
   "metadata": {},
   "outputs": [
    {
     "name": "stderr",
     "output_type": "stream",
     "text": [
      "WARNING: Logging before flag parsing goes to stderr.\n",
      "W0824 03:00:34.544486  2756 deprecation.py:323] From C:\\Users\\jwlee\\Anaconda3\\lib\\site-packages\\tensorflow\\python\\ops\\math_grad.py:1250: add_dispatch_support.<locals>.wrapper (from tensorflow.python.ops.array_ops) is deprecated and will be removed in a future version.\n",
      "Instructions for updating:\n",
      "Use tf.where in 2.0, which has the same broadcast rule as np.where\n"
     ]
    },
    {
     "name": "stdout",
     "output_type": "stream",
     "text": [
      "Epoch 1/30\n",
      "1/1 [==============================] - 1s 591ms/step - loss: 2.3591\n",
      "Epoch 2/30\n",
      "1/1 [==============================] - 0s 2ms/step - loss: 2.0635\n",
      "Epoch 3/30\n",
      "1/1 [==============================] - 0s 3ms/step - loss: 1.8191\n",
      "Epoch 4/30\n",
      "1/1 [==============================] - 0s 3ms/step - loss: 1.5738\n",
      "Epoch 5/30\n",
      "1/1 [==============================] - 0s 3ms/step - loss: 1.3257\n",
      "Epoch 6/30\n",
      "1/1 [==============================] - 0s 3ms/step - loss: 1.0945\n",
      "Epoch 7/30\n",
      "1/1 [==============================] - 0s 3ms/step - loss: 0.8903\n",
      "Epoch 8/30\n",
      "1/1 [==============================] - 0s 2ms/step - loss: 0.7181\n",
      "Epoch 9/30\n",
      "1/1 [==============================] - 0s 2ms/step - loss: 0.5866\n",
      "Epoch 10/30\n",
      "1/1 [==============================] - 0s 3ms/step - loss: 0.5065\n",
      "Epoch 11/30\n",
      "1/1 [==============================] - 0s 3ms/step - loss: 0.4506\n",
      "Epoch 12/30\n",
      "1/1 [==============================] - 0s 2ms/step - loss: 0.4017\n",
      "Epoch 13/30\n",
      "1/1 [==============================] - 0s 2ms/step - loss: 0.3668\n",
      "Epoch 14/30\n",
      "1/1 [==============================] - 0s 3ms/step - loss: 0.3534\n",
      "Epoch 15/30\n",
      "1/1 [==============================] - 0s 3ms/step - loss: 0.3446\n",
      "Epoch 16/30\n",
      "1/1 [==============================] - 0s 2ms/step - loss: 0.3277\n",
      "Epoch 17/30\n",
      "1/1 [==============================] - 0s 2ms/step - loss: 0.3149\n",
      "Epoch 18/30\n",
      "1/1 [==============================] - 0s 2ms/step - loss: 0.3079\n",
      "Epoch 19/30\n",
      "1/1 [==============================] - 0s 3ms/step - loss: 0.3009\n",
      "Epoch 20/30\n",
      "1/1 [==============================] - 0s 3ms/step - loss: 0.2945\n",
      "Epoch 21/30\n",
      "1/1 [==============================] - 0s 3ms/step - loss: 0.2897\n",
      "Epoch 22/30\n",
      "1/1 [==============================] - 0s 3ms/step - loss: 0.2877\n",
      "Epoch 23/30\n",
      "1/1 [==============================] - 0s 3ms/step - loss: 0.2846\n",
      "Epoch 24/30\n",
      "1/1 [==============================] - 0s 3ms/step - loss: 0.2823\n",
      "Epoch 25/30\n",
      "1/1 [==============================] - 0s 3ms/step - loss: 0.2831\n",
      "Epoch 26/30\n",
      "1/1 [==============================] - 0s 2ms/step - loss: 0.2812\n",
      "Epoch 27/30\n",
      "1/1 [==============================] - 0s 3ms/step - loss: 0.2793\n",
      "Epoch 28/30\n",
      "1/1 [==============================] - 0s 3ms/step - loss: 0.2803\n",
      "Epoch 29/30\n",
      "1/1 [==============================] - 0s 2ms/step - loss: 0.2810\n",
      "Epoch 30/30\n",
      "1/1 [==============================] - 0s 3ms/step - loss: 0.2793\n"
     ]
    },
    {
     "data": {
      "text/plain": [
       "<tensorflow.python.keras.callbacks.History at 0x1c527491a90>"
      ]
     },
     "execution_count": 12,
     "metadata": {},
     "output_type": "execute_result"
    }
   ],
   "source": [
    "model.fit(train_dataset, epochs=training_epochs,\n",
    "                    steps_per_epoch=dataX.shape[0]//batch_size)"
   ]
  },
  {
   "cell_type": "markdown",
   "metadata": {},
   "source": [
    "## Checking the Test Result"
   ]
  },
  {
   "cell_type": "code",
   "execution_count": 13,
   "metadata": {},
   "outputs": [
    {
     "name": "stdout",
     "output_type": "stream",
     "text": [
      "yf you yant you"
     ]
    }
   ],
   "source": [
    "results = model.predict(dataX, steps=1)\n",
    "for j, result in enumerate(results):\n",
    "    index = np.argmax(result, axis=1)\n",
    "    if j is 0:  # print all for the first result to make a sentence\n",
    "        print(''.join([idx2char[t] for t in index]), end='')\n",
    "    else:\n",
    "        print(idx2char[index[-1]], end='')"
   ]
  },
  {
   "cell_type": "code",
   "execution_count": null,
   "metadata": {},
   "outputs": [],
   "source": []
  }
 ],
 "metadata": {
  "kernelspec": {
   "display_name": "Python 3",
   "language": "python",
   "name": "python3"
  },
  "language_info": {
   "codemirror_mode": {
    "name": "ipython",
    "version": 3
   },
   "file_extension": ".py",
   "mimetype": "text/x-python",
   "name": "python",
   "nbconvert_exporter": "python",
   "pygments_lexer": "ipython3",
   "version": "3.7.3"
  }
 },
 "nbformat": 4,
 "nbformat_minor": 2
}
