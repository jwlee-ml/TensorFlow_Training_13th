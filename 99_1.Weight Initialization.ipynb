{
 "cells": [
  {
   "cell_type": "code",
   "execution_count": null,
   "metadata": {},
   "outputs": [],
   "source": [
    "import numpy as np\n",
    "import matplotlib.pyplot as plt"
   ]
  },
  {
   "cell_type": "code",
   "execution_count": null,
   "metadata": {},
   "outputs": [],
   "source": [
    "dims = [4096]*7"
   ]
  },
  {
   "cell_type": "code",
   "execution_count": null,
   "metadata": {},
   "outputs": [],
   "source": [
    "hs = []"
   ]
  },
  {
   "cell_type": "code",
   "execution_count": null,
   "metadata": {},
   "outputs": [],
   "source": [
    "x = np.random.randn(16, dims[0])"
   ]
  },
  {
   "cell_type": "code",
   "execution_count": null,
   "metadata": {},
   "outputs": [],
   "source": [
    "for Din, Dout in zip(dims[:-1], dims[1:]):\n",
    "    W = 0.01 * np.random.randn(Din, Dout)\n",
    "    #W = np.random.randn(Din, Dout) / np.sqrt(Din)\n",
    "    x = np.tanh(x.dot(W))\n",
    "    #x = np.maximum(0, x.dot(W))\n",
    "    hs.append(x)"
   ]
  },
  {
   "cell_type": "code",
   "execution_count": null,
   "metadata": {},
   "outputs": [],
   "source": [
    "plt.figure(figsize=(22, 3))\n",
    "for i in range(len(hs)):\n",
    "    plt.subplot(1,6,i+1)\n",
    "    plt.title(\"Layer {}\\n Mean: {:.2f}\\n Std: {:.2f}\".format(i+1, np.mean(hs[i]), np.std(hs[i])))\n",
    "    plt.hist(np.reshape(hs[i], -1), bins=50, range=(-1,1))    \n",
    "plt.show()"
   ]
  },
  {
   "cell_type": "code",
   "execution_count": null,
   "metadata": {},
   "outputs": [],
   "source": []
  }
 ],
 "metadata": {
  "kernelspec": {
   "display_name": "Python 3",
   "language": "python",
   "name": "python3"
  },
  "language_info": {
   "codemirror_mode": {
    "name": "ipython",
    "version": 3
   },
   "file_extension": ".py",
   "mimetype": "text/x-python",
   "name": "python",
   "nbconvert_exporter": "python",
   "pygments_lexer": "ipython3",
   "version": "3.5.6"
  }
 },
 "nbformat": 4,
 "nbformat_minor": 2
}
